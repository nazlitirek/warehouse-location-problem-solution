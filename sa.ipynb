{
 "cells": [
  {
   "cell_type": "code",
   "execution_count": 1,
   "id": "4e3e8a71",
   "metadata": {},
   "outputs": [],
   "source": [
    "from data_loader import load_data"
   ]
  },
  {
   "cell_type": "code",
   "execution_count": 2,
   "id": "5901cb38",
   "metadata": {},
   "outputs": [],
   "source": [
    "import random\n",
    "import numpy as np"
   ]
  },
  {
   "cell_type": "code",
   "execution_count": 3,
   "id": "628252a7",
   "metadata": {},
   "outputs": [],
   "source": [
    "def calculate_cost(solution, num_depots, depot_capacities, setup_costs, customer_demands, cost_matrix):\n",
    "    total_cost = 0\n",
    "    depot_loads = np.zeros(num_depots)\n",
    "\n",
    "    for customer, depot in enumerate(solution):\n",
    "        depot_loads[depot] += customer_demands[customer]\n",
    "        total_cost += cost_matrix[customer][depot]\n",
    "\n",
    "    # Depo kurulum maliyetlerini ekle\n",
    "    setup_costs = np.array(setup_costs)  # Eğer setup_costs bir liste ise, NumPy dizisine dönüştürüyoruz\n",
    "    used_depots = depot_loads > 0\n",
    "    total_cost += np.sum(setup_costs[used_depots])\n",
    "\n",
    "    # Kapasite aşımı cezası\n",
    "    capacity_excess = np.maximum(0, depot_loads - depot_capacities)\n",
    "    penalty = np.sum(capacity_excess) * 1e4\n",
    "    total_cost += penalty\n",
    "\n",
    "    return total_cost"
   ]
  },
  {
   "cell_type": "code",
   "execution_count": 7,
   "id": "a139916e",
   "metadata": {},
   "outputs": [],
   "source": [
    "import random\n",
    "import numpy as np\n",
    "\n",
    "def simulated_annealing(num_depots, num_customers, depot_capacities, setup_costs, customer_demands, cost_matrix,\n",
    "                        initial_temperature=1000, cooling_rate=0.95, max_iterations=1000):\n",
    "    \n",
    "    # Başlangıç çözümü rastgele oluşturuluyor\n",
    "    current_solution = [random.randint(0, num_depots - 1) for _ in range(num_customers)]\n",
    "    current_cost = calculate_cost(current_solution, num_depots, depot_capacities, setup_costs, customer_demands, cost_matrix)\n",
    "    \n",
    "    best_solution = current_solution.copy()\n",
    "    best_cost = current_cost\n",
    "\n",
    "    temperature = initial_temperature\n",
    "\n",
    "    for iteration in range(max_iterations):\n",
    "        # Rastgele bir komşu çözüm oluştur\n",
    "        new_solution = current_solution.copy()\n",
    "        customer_to_change = random.randint(0, num_customers - 1)\n",
    "        new_solution[customer_to_change] = random.randint(0, num_depots - 1)\n",
    "\n",
    "        new_cost = calculate_cost(new_solution, num_depots, depot_capacities, setup_costs, customer_demands, cost_matrix)\n",
    "\n",
    "        # Kabul kriterini kontrol et\n",
    "        if new_cost < current_cost or random.random() < np.exp((current_cost - new_cost) / temperature):\n",
    "            current_solution = new_solution\n",
    "            current_cost = new_cost\n",
    "\n",
    "            # En iyi çözümü güncelle\n",
    "            if current_cost < best_cost:\n",
    "                best_solution = current_solution\n",
    "                best_cost = current_cost\n",
    "\n",
    "        # Sıcaklığı azalt\n",
    "        temperature *= cooling_rate\n",
    "\n",
    "    return best_solution, best_cost\n"
   ]
  },
  {
   "cell_type": "code",
   "execution_count": 8,
   "id": "d941d354",
   "metadata": {},
   "outputs": [
    {
     "name": "stdout",
     "output_type": "stream",
     "text": [
      "En iyi çözüm: [11, 11, 0, 17, 20, 0, 17, 18, 20, 3, 10, 10, 5, 3, 6, 11, 19, 10, 20, 6, 20, 6, 10, 0, 10, 10, 12, 10, 13, 14, 0, 3, 13, 17, 10, 19, 18, 5, 22, 17, 19, 19, 10, 13, 22, 23, 3, 13, 18, 11]\n",
      "En iyi maliyet: 903185.3125000002\n"
     ]
    }
   ],
   "source": [
    "# Load the problem data\n",
    "file_path = \"Dataset/wl_25\"  # Replace with your actual data file path\n",
    "num_depots, num_customers, depot_capacities, setup_costs, customer_demands, cost_matrix = load_data(file_path)\n",
    "assert len(setup_costs) == num_depots, \"setup_costs boyutu depo sayısıyla uyumlu değil!\"\n",
    "\n",
    "solution, cost = simulated_annealing(num_depots, num_customers, depot_capacities, setup_costs, customer_demands, cost_matrix)\n",
    "print(\"En iyi çözüm:\", solution)\n",
    "print(\"En iyi maliyet:\", cost)\n"
   ]
  },
  {
   "cell_type": "code",
   "execution_count": 9,
   "id": "fd2aaaa3",
   "metadata": {},
   "outputs": [
    {
     "name": "stdout",
     "output_type": "stream",
     "text": [
      "En iyi çözüm: [22, 34, 25, 22, 41, 11, 17, 7, 41, 24, 22, 11, 7, 25, 34, 37, 24, 37, 17, 24, 41, 34, 22, 25, 22, 27, 19, 27, 27, 31, 31, 31, 31, 33, 27, 37, 36, 37, 45, 37, 27, 41, 34, 49, 42, 41, 24, 24, 37, 49]\n",
      "En iyi maliyet: 1108370.0125000002\n"
     ]
    }
   ],
   "source": [
    "# Load the problem data\n",
    "file_path = \"Dataset/wl_50\"  # Replace with your actual data file path\n",
    "num_depots, num_customers, depot_capacities, setup_costs, customer_demands, cost_matrix = load_data(file_path)\n",
    "assert len(setup_costs) == num_depots, \"setup_costs boyutu depo sayısıyla uyumlu değil!\"\n",
    "\n",
    "solution, cost = simulated_annealing(num_depots, num_customers, depot_capacities, setup_costs, customer_demands, cost_matrix)\n",
    "print(\"En iyi çözüm:\", solution)\n",
    "print(\"En iyi maliyet:\", cost)\n"
   ]
  },
  {
   "cell_type": "code",
   "execution_count": 10,
   "id": "65968f08",
   "metadata": {},
   "outputs": [
    {
     "name": "stdout",
     "output_type": "stream",
     "text": [
      "En iyi çözüm: [58, 173, 172, 50, 122, 187, 68, 65, 175, 32, 4, 105, 52, 94, 46, 177, 25, 50, 44, 43, 38, 24, 84, 107, 75, 46, 46, 135, 61, 58, 166, 92, 61, 110, 100, 68, 132, 158, 145, 61, 170, 198, 44, 27, 187, 67, 172, 95, 198, 160, 164, 43, 29, 15, 53, 103, 39, 66, 145, 148, 47, 127, 84, 9, 52, 171, 88, 52, 78, 106, 69, 133, 133, 103, 53, 131, 171, 58, 44, 95, 68, 92, 183, 93, 68, 65, 53, 135, 132, 177, 175, 78, 166, 15, 132, 47, 106, 197, 122, 103, 171, 116, 158, 48, 58, 4, 24, 69, 53, 198, 54, 198, 93, 44, 158, 53, 106, 61, 61, 95, 15, 38, 55, 145, 24, 54, 100, 138, 85, 172, 85, 187, 175, 65, 39, 175, 144, 183, 55, 29, 69, 144, 116, 138, 122, 67, 29, 28, 116, 54, 135, 4, 107, 160, 144, 110, 42, 65, 131, 171, 27, 138, 25, 172, 160, 145, 170, 24, 25, 183, 55, 38, 27, 44, 68, 80, 48, 80, 105, 84, 75, 9, 183, 67, 15, 84, 173, 28, 25, 48, 84, 58, 93, 54, 4, 107, 32, 27, 92, 127]\n",
      "En iyi maliyet: 27992.49253\n"
     ]
    }
   ],
   "source": [
    "# Load the problem data\n",
    "file_path = \"Dataset/wl_200\"  # Replace with your actual data file path\n",
    "num_depots, num_customers, depot_capacities, setup_costs, customer_demands, cost_matrix = load_data(file_path)\n",
    "assert len(setup_costs) == num_depots, \"setup_costs boyutu depo sayısıyla uyumlu değil!\"\n",
    "\n",
    "solution, cost = simulated_annealing(num_depots, num_customers, depot_capacities, setup_costs, customer_demands, cost_matrix)\n",
    "print(\"En iyi çözüm:\", solution)\n",
    "print(\"En iyi maliyet:\", cost)\n"
   ]
  },
  {
   "cell_type": "code",
   "execution_count": 11,
   "id": "aab440ad",
   "metadata": {},
   "outputs": [
    {
     "name": "stdout",
     "output_type": "stream",
     "text": [
      "En iyi çözüm: [126, 151, 126, 254, 193, 258, 258, 38, 190, 177, 6, 248, 106, 211, 111, 41, 149, 192, 290, 118, 114, 118, 287, 273, 224, 161, 40, 7, 7, 43, 48, 7, 73, 165, 243, 211, 149, 90, 13, 38, 259, 106, 278, 193, 201, 37, 146, 169, 209, 112, 169, 177, 35, 254, 88, 165, 24, 264, 248, 154, 206, 289, 209, 113, 39, 239, 242, 110, 61, 130, 258, 69, 108, 104, 166, 267, 26, 168, 169, 274, 268, 38, 208, 288, 178, 211, 287, 277, 224, 118, 16, 112, 68, 61, 57, 277, 69, 70, 42, 140, 267, 100, 28, 287, 62, 260, 182, 285, 106, 240, 149, 143, 133, 248, 176, 278, 232, 126, 254, 41, 251, 231, 57, 184, 87, 10, 53, 16, 234, 232, 133, 1, 254, 10, 240, 193, 7, 106, 113, 28, 30, 139, 172, 277, 251, 140, 278, 65, 256, 234, 201, 146, 39, 252, 11, 136, 282, 293, 287, 252, 75, 100, 48, 277, 74, 26, 289, 130, 201, 43, 177, 224, 232, 111, 130, 265, 64, 65, 177, 53, 133, 75, 264, 11, 277, 35, 182, 291, 172, 61, 24, 7, 243, 288, 290, 58, 231, 118, 43, 127, 61, 13, 41, 114, 86, 132, 6, 240, 206, 259, 258, 274, 262, 46, 58, 136, 114, 289, 68, 62, 126, 69, 24, 239, 38, 127, 168, 228, 100, 151, 106, 1, 243, 294, 42, 75, 293, 132, 139, 285, 265, 172, 293, 291, 192, 228, 282, 66, 248, 86, 88, 161, 154, 46, 66, 285, 243, 154, 108, 57, 143, 268, 112, 247, 35, 160, 40, 208, 184, 37, 242, 208, 98, 133, 209, 160, 66, 98, 228, 172, 110, 294, 11, 46, 112, 139, 291, 26, 86, 165, 73, 58, 282, 254, 260, 274, 178, 256, 13, 242]\n",
      "En iyi maliyet: 68724.32414999999\n"
     ]
    }
   ],
   "source": [
    "# Load the problem data\n",
    "file_path = \"Dataset/wl_300\"  # Replace with your actual data file path\n",
    "num_depots, num_customers, depot_capacities, setup_costs, customer_demands, cost_matrix = load_data(file_path)\n",
    "assert len(setup_costs) == num_depots, \"setup_costs boyutu depo sayısıyla uyumlu değil!\"\n",
    "\n",
    "solution, cost = simulated_annealing(num_depots, num_customers, depot_capacities, setup_costs, customer_demands, cost_matrix)\n",
    "print(\"En iyi çözüm:\", solution)\n",
    "print(\"En iyi maliyet:\", cost)\n"
   ]
  },
  {
   "cell_type": "code",
   "execution_count": 12,
   "id": "00e62e78",
   "metadata": {},
   "outputs": [
    {
     "name": "stdout",
     "output_type": "stream",
     "text": [
      "En iyi çözüm: [478, 464, 419, 353, 195, 439, 104, 147, 465, 462, 206, 42, 397, 222, 251, 167, 455, 491, 485, 39, 271, 180, 194, 303, 380, 453, 381, 368, 68, 55, 390, 22, 213, 390, 286, 77, 474, 174, 406, 187, 400, 244, 231, 129, 79, 344, 353, 122, 37, 220, 237, 362, 20, 310, 491, 448, 267, 383, 450, 244, 74, 391, 297, 224, 18, 446, 88, 391, 179, 273, 0, 328, 153, 482, 465, 9, 412, 76, 202, 446, 134, 448, 255, 94, 474, 108, 132, 380, 455, 76, 108, 331, 94, 297, 221, 227, 176, 75, 325, 129, 88, 244, 248, 382, 259, 391, 356, 93, 96, 101, 68, 391, 49, 255, 448, 310, 266, 179, 414, 184, 439, 9, 56, 362, 231, 466, 330, 194, 470, 161, 456, 108, 422, 371, 479, 19, 182, 322, 88, 371, 422, 498, 259, 121, 376, 39, 462, 248, 486, 339, 248, 232, 368, 104, 499, 250, 476, 131, 183, 305, 68, 374, 206, 431, 123, 424, 455, 18, 4, 89, 450, 194, 132, 40, 167, 266, 406, 74, 326, 149, 325, 305, 486, 94, 462, 19, 439, 157, 338, 470, 274, 390, 453, 338, 203, 134, 387, 242, 408, 423, 232, 58, 328, 120, 242, 37, 491, 266, 400, 75, 353, 149, 387, 195, 390, 118, 100, 104, 37, 88, 99, 464, 229, 373, 349, 5, 221, 325, 383, 346, 22, 378, 242, 322, 255, 476, 398, 98, 301, 186, 245, 79, 5, 412, 145, 15, 433, 237, 226, 382, 490, 301, 91, 5, 145, 104, 393, 473, 149, 122, 346, 496, 37, 249, 31, 255, 332, 159, 174, 412, 195, 49, 132, 466, 217, 113, 408, 77, 79, 374, 74, 211, 266, 302, 332, 280, 32, 479, 34, 464, 93, 129, 477, 423, 473, 429, 391, 132, 383, 108, 333, 184, 328, 34, 303, 433, 110, 382, 4, 18, 15, 464, 222, 5, 397, 488, 462, 362, 477, 16, 477, 262, 206, 412, 134, 431, 422, 325, 213, 245, 330, 273, 325, 344, 331, 416, 362, 77, 490, 336, 162, 490, 368, 496, 333, 467, 151, 100, 167, 271, 140, 464, 297, 408, 159, 202, 104, 383, 56, 174, 203, 134, 222, 492, 467, 61, 99, 133, 98, 393, 303, 42, 390, 54, 111, 322, 32, 89, 482, 120, 456, 291, 143, 485, 368, 473, 202, 47, 40, 42, 313, 232, 371, 167, 297, 369, 431, 227, 110, 250, 89, 485, 101, 310, 424, 456, 485, 358, 162, 103, 194, 251, 107, 22, 462, 455, 369, 90, 324, 374, 353, 349, 496, 479, 184, 430, 98, 483, 251, 189, 349, 382, 353, 121, 115, 217, 214, 400, 488, 447, 99, 36, 242, 194, 325, 488, 77, 262, 266, 31, 439, 161, 36, 416, 439, 179, 157, 280, 151, 293, 72, 267, 338, 175, 186, 241, 313, 202, 224, 470, 151, 34, 182, 380, 483, 383, 229, 339, 4, 433, 376, 247, 179, 446, 143, 249, 154, 461, 492, 271, 455, 447, 290, 344, 490, 486, 88, 72, 250, 342]\n",
      "En iyi maliyet: 69667.28801\n"
     ]
    }
   ],
   "source": [
    "# Load the problem data\n",
    "file_path = \"Dataset/wl_500\"  # Replace with your actual data file path\n",
    "num_depots, num_customers, depot_capacities, setup_costs, customer_demands, cost_matrix = load_data(file_path)\n",
    "assert len(setup_costs) == num_depots, \"setup_costs boyutu depo sayısıyla uyumlu değil!\"\n",
    "\n",
    "solution, cost = simulated_annealing(num_depots, num_customers, depot_capacities, setup_costs, customer_demands, cost_matrix)\n",
    "print(\"En iyi çözüm:\", solution)\n",
    "print(\"En iyi maliyet:\", cost)\n"
   ]
  }
 ],
 "metadata": {
  "kernelspec": {
   "display_name": "ML",
   "language": "python",
   "name": "python3"
  },
  "language_info": {
   "codemirror_mode": {
    "name": "ipython",
    "version": 3
   },
   "file_extension": ".py",
   "mimetype": "text/x-python",
   "name": "python",
   "nbconvert_exporter": "python",
   "pygments_lexer": "ipython3",
   "version": "3.12.7"
  }
 },
 "nbformat": 4,
 "nbformat_minor": 5
}
