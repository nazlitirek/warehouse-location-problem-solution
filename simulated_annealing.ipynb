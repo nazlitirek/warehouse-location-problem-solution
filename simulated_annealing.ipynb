{
 "cells": [
  {
   "cell_type": "code",
   "execution_count": 2,
   "id": "b4a1ab13",
   "metadata": {},
   "outputs": [],
   "source": [
    "from data_loader import load_data\n",
    "import numpy as np\n",
    "import math\n",
    "import random"
   ]
  },
  {
   "cell_type": "code",
   "execution_count": 3,
   "id": "00238611",
   "metadata": {},
   "outputs": [],
   "source": [
    "def greedy_solution(n_depots, n_customers, capacities, setup_costs, demands, costs):\n",
    "    customer_assignment = [-1] * n_customers\n",
    "    remaining_capacity = capacities.copy()\n",
    "    open_depots = set()\n",
    "\n",
    "    for c in range(n_customers):\n",
    "        min_cost = float('inf')\n",
    "        best_depot = -1\n",
    "        for d in range(n_depots):\n",
    "            if remaining_capacity[d] >= demands[c] and costs[c][d] < min_cost:\n",
    "                min_cost = costs[c][d]\n",
    "                best_depot = d\n",
    "        if best_depot == -1:\n",
    "            raise ValueError(\"No feasible assignment found\")\n",
    "        customer_assignment[c] = best_depot\n",
    "        remaining_capacity[best_depot] -= demands[c]\n",
    "        open_depots.add(best_depot)\n",
    "\n",
    "    total_cost = sum(setup_costs[d] for d in open_depots)\n",
    "    total_cost += sum(costs[c][customer_assignment[c]] for c in range(n_customers))\n",
    "    return list(open_depots), customer_assignment, total_cost\n",
    "\n",
    "def calculate_cost(open_depots, assignment, setup_costs, costs):\n",
    "    setup = sum(setup_costs[d] for d in open_depots)\n",
    "    transport = sum(costs[i][assignment[i]] for i in range(len(assignment)))\n",
    "    return setup + transport\n",
    "\n",
    "def simulated_annealing(n_depots, n_customers, capacities, setup_costs, demands, costs,\n",
    "                        initial_temp=1000, final_temp=1, alpha=0.95, max_iter=1000):\n",
    "    open_depots, assignment, cost = greedy_solution(n_depots, n_customers, capacities, setup_costs, demands, costs)\n",
    "    current_open = open_depots.copy()\n",
    "    current_assignment = assignment.copy()\n",
    "    current_cost = cost\n",
    "    best_open = current_open.copy()\n",
    "    best_assignment = current_assignment.copy()\n",
    "    best_cost = current_cost\n",
    "\n",
    "    temp = initial_temp\n",
    "    while temp > final_temp:\n",
    "        for _ in range(max_iter):\n",
    "            new_open = current_open.copy()\n",
    "            new_assignment = current_assignment.copy()\n",
    "\n",
    "            # Rastgele bir müşteri seç ve başka bir geçerli depoya ata\n",
    "            c = random.randint(0, n_customers - 1)\n",
    "            current_depot = new_assignment[c]\n",
    "            possible_depots = [d for d in range(n_depots) if d != current_depot and capacities[d] >= demands[c]]\n",
    "            if not possible_depots:\n",
    "                continue\n",
    "            new_depot = random.choice(possible_depots)\n",
    "\n",
    "            # kapasiteyi güncelle\n",
    "            depot_capacities = capacities.copy()\n",
    "            for i in range(n_customers):\n",
    "                if i != c:\n",
    "                    depot_capacities[new_assignment[i]] -= demands[i]\n",
    "\n",
    "            if depot_capacities[new_depot] < demands[c]:\n",
    "                continue\n",
    "\n",
    "            new_assignment[c] = new_depot\n",
    "            new_open = set(new_assignment)\n",
    "            new_cost = calculate_cost(new_open, new_assignment, setup_costs, costs)\n",
    "\n",
    "            delta = new_cost - current_cost\n",
    "            if delta < 0 or random.random() < math.exp(-delta / temp):\n",
    "                current_open = new_open\n",
    "                current_assignment = new_assignment\n",
    "                current_cost = new_cost\n",
    "                if current_cost < best_cost:\n",
    "                    best_open = current_open.copy()\n",
    "                    best_assignment = current_assignment.copy()\n",
    "                    best_cost = current_cost\n",
    "\n",
    "        temp *= alpha\n",
    "\n",
    "    return sorted(list(best_open)), best_assignment, best_cost\n"
   ]
  },
  {
   "cell_type": "code",
   "execution_count": 4,
   "id": "a95e4b92",
   "metadata": {},
   "outputs": [
    {
     "name": "stdout",
     "output_type": "stream",
     "text": [
      "Seçilen Depolar: [0, 1, 3, 6, 8, 10, 11, 12, 16, 17, 18, 19, 22, 23, 24]\n",
      "Müşterilerin Depo Seçimi: [11, 11, 0, 24, 11, 0, 1, 8, 11, 11, 3, 10, 10, 0, 6, 11, 3, 8, 3, 6, 3, 6, 10, 0, 11, 10, 12, 10, 19, 0, 0, 10, 0, 16, 11, 11, 17, 18, 23, 24, 19, 3, 11, 6, 22, 23, 23, 6, 24, 11]\n",
      "Toplam Maliyet: 801666.68\n"
     ]
    }
   ],
   "source": [
    "filename = 'Dataset/wl_25'\n",
    "n_depots, n_customers, depot_capacities, setup_costs, customer_demands, costs = load_data(filename)\n",
    "open_depots, customer_assignment, total_cost = simulated_annealing(\n",
    "    n_depots, n_customers, depot_capacities, setup_costs, customer_demands, costs\n",
    ")\n",
    "\n",
    "print(\"Seçilen Depolar:\", open_depots)\n",
    "print(\"Müşterilerin Depo Seçimi:\", customer_assignment)\n",
    "print(\"Toplam Maliyet:\", round(total_cost, 2))"
   ]
  },
  {
   "cell_type": "code",
   "execution_count": 5,
   "id": "de4b5545",
   "metadata": {},
   "outputs": [
    {
     "name": "stdout",
     "output_type": "stream",
     "text": [
      "Seçilen Depolar: [5, 10, 12, 22, 24, 26, 33, 36, 40, 44, 45]\n",
      "Müşterilerin Depo Seçimi: [24, 24, 5, 36, 24, 5, 36, 12, 24, 24, 10, 22, 12, 5, 24, 24, 10, 22, 10, 24, 10, 5, 22, 5, 24, 22, 26, 22, 40, 5, 5, 22, 5, 33, 24, 24, 36, 12, 45, 36, 40, 10, 24, 40, 44, 45, 45, 24, 36, 24]\n",
      "Toplam Maliyet: 863132.51\n"
     ]
    }
   ],
   "source": [
    "filename = 'Dataset/wl_50'\n",
    "n_depots, n_customers, depot_capacities, setup_costs, customer_demands, costs = load_data(filename)\n",
    "open_depots, customer_assignment, total_cost = simulated_annealing(\n",
    "    n_depots, n_customers, depot_capacities, setup_costs, customer_demands, costs\n",
    ")\n",
    "\n",
    "print(\"Seçilen Depolar:\", open_depots)\n",
    "print(\"Müşterilerin Depo Seçimi:\", customer_assignment)\n",
    "print(\"Toplam Maliyet:\", round(total_cost, 2))"
   ]
  },
  {
   "cell_type": "code",
   "execution_count": 6,
   "id": "6b6fac45",
   "metadata": {},
   "outputs": [
    {
     "name": "stdout",
     "output_type": "stream",
     "text": [
      "Seçilen Depolar: [3, 8, 17, 19, 29, 45, 47, 50, 51, 56, 62, 63, 64, 75, 86, 87, 95, 100, 103, 109, 123, 148, 150, 154, 159, 163, 168, 188]\n",
      "Müşterilerin Depo Seçimi: [103, 95, 50, 56, 51, 64, 50, 100, 64, 17, 19, 150, 51, 47, 8, 47, 62, 159, 148, 95, 45, 63, 150, 17, 168, 75, 64, 148, 148, 56, 87, 63, 150, 17, 100, 86, 150, 188, 86, 3, 63, 109, 29, 47, 75, 168, 8, 123, 150, 3, 63, 17, 103, 188, 154, 163, 17, 50, 123, 100, 154, 17, 87, 17, 45, 148, 148, 148, 95, 17, 168, 45, 150, 62, 159, 51, 56, 19, 63, 3, 100, 3, 51, 64, 63, 51, 109, 109, 150, 159, 63, 56, 51, 56, 63, 19, 86, 19, 64, 123, 188, 109, 148, 163, 17, 63, 109, 95, 103, 56, 63, 8, 95, 45, 86, 62, 50, 109, 45, 109, 188, 56, 51, 163, 154, 103, 163, 188, 95, 123, 95, 188, 29, 109, 159, 50, 8, 63, 63, 63, 86, 17, 3, 150, 148, 103, 50, 154, 3, 19, 95, 47, 3, 50, 56, 154, 8, 159, 150, 3, 45, 8, 47, 63, 75, 86, 86, 109, 87, 56, 64, 109, 154, 63, 29, 87, 123, 150, 56, 150, 64, 75, 87, 64, 87, 3, 51, 168, 29, 168, 87, 64, 154, 159, 100, 56, 95, 188, 95, 3]\n",
      "Toplam Maliyet: 9328.5\n"
     ]
    }
   ],
   "source": [
    "filename = 'Dataset/wl_200'\n",
    "n_depots, n_customers, depot_capacities, setup_costs, customer_demands, costs = load_data(filename)\n",
    "open_depots, customer_assignment, total_cost = simulated_annealing(\n",
    "    n_depots, n_customers, depot_capacities, setup_costs, customer_demands, costs\n",
    ")\n",
    "\n",
    "print(\"Seçilen Depolar:\", open_depots)\n",
    "print(\"Müşterilerin Depo Seçimi:\", customer_assignment)\n",
    "print(\"Toplam Maliyet:\", round(total_cost, 2))"
   ]
  },
  {
   "cell_type": "code",
   "execution_count": 7,
   "id": "6f22da0f",
   "metadata": {},
   "outputs": [
    {
     "name": "stdout",
     "output_type": "stream",
     "text": [
      "Seçilen Depolar: [5, 14, 30, 38, 48, 52, 62, 63, 64, 65, 69, 71, 81, 84, 85, 92, 125, 126, 130, 131, 141, 153, 155, 163, 165, 169, 180, 191, 192, 197, 198, 204, 206, 214, 222, 223, 231, 247, 250, 264, 285, 287]\n",
      "Müşterilerin Depo Seçimi: [180, 223, 125, 204, 287, 264, 155, 64, 214, 81, 287, 85, 264, 84, 81, 285, 153, 264, 206, 163, 155, 38, 65, 14, 206, 250, 62, 191, 65, 92, 153, 222, 191, 14, 81, 65, 130, 192, 92, 69, 131, 131, 214, 48, 180, 223, 250, 131, 52, 65, 264, 71, 285, 64, 81, 52, 14, 191, 206, 222, 71, 126, 30, 250, 92, 141, 191, 125, 231, 62, 191, 204, 192, 204, 130, 69, 62, 231, 153, 214, 125, 30, 30, 206, 180, 30, 197, 52, 5, 197, 247, 223, 5, 231, 153, 125, 180, 69, 84, 130, 5, 250, 287, 38, 285, 231, 155, 192, 38, 125, 223, 165, 85, 5, 163, 165, 63, 198, 247, 169, 62, 285, 264, 197, 84, 231, 204, 38, 153, 250, 264, 192, 130, 285, 222, 231, 180, 85, 62, 204, 65, 65, 250, 92, 214, 48, 5, 223, 63, 231, 131, 153, 287, 223, 214, 30, 71, 192, 14, 204, 223, 141, 130, 92, 69, 38, 38, 65, 81, 64, 65, 247, 285, 191, 92, 85, 81, 214, 126, 287, 285, 206, 206, 264, 247, 153, 63, 231, 247, 141, 222, 198, 92, 92, 30, 153, 48, 155, 223, 141, 250, 231, 250, 38, 191, 48, 126, 197, 63, 65, 30, 69, 141, 14, 198, 198, 214, 52, 231, 198, 153, 247, 191, 30, 71, 163, 52, 192, 214, 231, 71, 163, 165, 231, 64, 130, 48, 126, 131, 141, 214, 155, 63, 191, 71, 52, 14, 231, 125, 65, 69, 155, 192, 48, 125, 214, 141, 163, 206, 62, 169, 69, 264, 14, 247, 5, 48, 285, 62, 214, 214, 71, 84, 5, 64, 65, 223, 65, 141, 191, 204, 130, 131, 285, 92, 5, 52, 69, 204, 38, 250, 130, 287, 206, 85, 153, 250, 206, 223, 71]\n",
      "Toplam Maliyet: 20464.87\n"
     ]
    }
   ],
   "source": [
    "filename = 'Dataset/wl_300'\n",
    "n_depots, n_customers, depot_capacities, setup_costs, customer_demands, costs = load_data(filename)\n",
    "open_depots, customer_assignment, total_cost = simulated_annealing(\n",
    "    n_depots, n_customers, depot_capacities, setup_costs, customer_demands, costs\n",
    ")\n",
    "\n",
    "print(\"Seçilen Depolar:\", open_depots)\n",
    "print(\"Müşterilerin Depo Seçimi:\", customer_assignment)\n",
    "print(\"Toplam Maliyet:\", round(total_cost, 2))"
   ]
  },
  {
   "cell_type": "code",
   "execution_count": 8,
   "id": "e6451766",
   "metadata": {},
   "outputs": [
    {
     "name": "stdout",
     "output_type": "stream",
     "text": [
      "Seçilen Depolar: [5, 15, 16, 18, 37, 50, 51, 60, 63, 67, 70, 77, 106, 107, 109, 118, 122, 132, 133, 138, 141, 146, 150, 154, 159, 162, 164, 166, 181, 184, 195, 199, 200, 209, 222, 229, 237, 238, 247, 255, 271, 276, 281, 283, 285, 310, 311, 328, 342, 352, 362, 366, 380, 381, 389, 395, 414, 417, 423, 424, 425, 429, 432, 436, 437, 442, 445, 446, 452, 462, 466, 469, 474, 478, 486]\n",
      "Müşterilerin Depo Seçimi: [162, 417, 285, 429, 442, 238, 229, 60, 423, 474, 452, 164, 311, 118, 362, 466, 380, 417, 60, 425, 247, 445, 283, 414, 285, 474, 184, 200, 389, 200, 466, 138, 342, 247, 63, 138, 162, 414, 150, 437, 462, 478, 437, 445, 18, 16, 381, 276, 37, 276, 436, 362, 195, 285, 107, 414, 162, 118, 15, 150, 381, 446, 425, 63, 118, 285, 181, 255, 462, 222, 5, 37, 362, 432, 389, 414, 469, 67, 67, 50, 229, 159, 107, 229, 380, 381, 77, 138, 276, 432, 389, 247, 18, 469, 424, 15, 462, 442, 285, 164, 237, 285, 164, 486, 478, 164, 478, 132, 16, 469, 446, 107, 436, 109, 118, 16, 237, 389, 51, 132, 184, 362, 285, 122, 70, 285, 255, 446, 209, 271, 51, 154, 310, 436, 310, 164, 209, 150, 255, 462, 141, 164, 429, 380, 446, 184, 446, 311, 486, 50, 122, 436, 469, 352, 37, 37, 50, 109, 445, 209, 122, 51, 452, 446, 237, 106, 229, 247, 255, 5, 281, 60, 417, 70, 77, 445, 37, 237, 310, 77, 138, 132, 15, 381, 150, 60, 425, 51, 107, 106, 107, 37, 281, 395, 164, 381, 16, 122, 138, 437, 15, 77, 118, 432, 166, 141, 414, 442, 162, 209, 122, 222, 16, 164, 255, 281, 486, 184, 133, 146, 424, 51, 50, 478, 424, 442, 452, 255, 70, 159, 106, 395, 237, 389, 209, 469, 247, 141, 362, 122, 423, 285, 446, 132, 271, 222, 106, 462, 395, 442, 229, 159, 200, 466, 16, 67, 247, 342, 200, 469, 106, 381, 222, 311, 5, 469, 141, 474, 432, 50, 432, 118, 366, 366, 16, 229, 342, 462, 138, 15, 222, 424, 352, 5, 132, 417, 222, 164, 162, 63, 141, 15, 285, 311, 122, 60, 285, 118, 146, 417, 184, 106, 271, 238, 238, 281, 247, 381, 281, 141, 466, 362, 154, 281, 63, 362, 50, 154, 18, 462, 184, 478, 247, 366, 352, 154, 222, 281, 166, 132, 281, 5, 15, 429, 486, 154, 255, 424, 50, 417, 429, 429, 37, 15, 51, 478, 199, 328, 70, 271, 486, 478, 442, 118, 466, 141, 238, 162, 424, 199, 381, 141, 381, 237, 164, 466, 70, 474, 118, 238, 199, 109, 425, 195, 486, 429, 425, 283, 63, 16, 271, 446, 328, 200, 209, 429, 417, 238, 67, 366, 222, 237, 138, 209, 310, 381, 70, 60, 436, 122, 133, 255, 281, 395, 452, 328, 446, 474, 16, 445, 50, 106, 446, 237, 67, 452, 229, 209, 462, 209, 442, 362, 109, 414, 18, 133, 237, 141, 159, 311, 342, 200, 381, 133, 446, 229, 446, 184, 106, 195, 328, 442, 395, 150, 162, 276, 436, 436, 181, 63, 271, 195, 462, 423, 281, 366, 352, 486, 118, 181, 437, 132, 366, 446, 283, 425, 247, 133, 446, 166, 380, 70, 381, 133, 195, 389, 423, 199, 469, 164, 352, 77, 154, 452, 442, 5, 51, 380, 107, 118, 166, 237, 162, 199, 37, 436, 366, 199, 466, 70]\n",
      "Toplam Maliyet: 21327.05\n"
     ]
    }
   ],
   "source": [
    "filename = 'Dataset/wl_500'\n",
    "n_depots, n_customers, depot_capacities, setup_costs, customer_demands, costs = load_data(filename)\n",
    "open_depots, customer_assignment, total_cost = simulated_annealing(\n",
    "    n_depots, n_customers, depot_capacities, setup_costs, customer_demands, costs\n",
    ")\n",
    "\n",
    "print(\"Seçilen Depolar:\", open_depots)\n",
    "print(\"Müşterilerin Depo Seçimi:\", customer_assignment)\n",
    "print(\"Toplam Maliyet:\", round(total_cost, 2))"
   ]
  }
 ],
 "metadata": {
  "kernelspec": {
   "display_name": "ML",
   "language": "python",
   "name": "python3"
  },
  "language_info": {
   "codemirror_mode": {
    "name": "ipython",
    "version": 3
   },
   "file_extension": ".py",
   "mimetype": "text/x-python",
   "name": "python",
   "nbconvert_exporter": "python",
   "pygments_lexer": "ipython3",
   "version": "3.12.7"
  }
 },
 "nbformat": 4,
 "nbformat_minor": 5
}
