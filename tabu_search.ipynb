{
 "cells": [
  {
   "cell_type": "code",
   "execution_count": 4,
   "id": "65c735de",
   "metadata": {},
   "outputs": [],
   "source": [
    "from data_loader import load_data\n",
    "import numpy as np"
   ]
  },
  {
   "cell_type": "code",
   "execution_count": 14,
   "id": "3530bb49",
   "metadata": {},
   "outputs": [],
   "source": [
    "def calculate_total_cost(solution, demands, setup_costs, costs, capacities):\n",
    "    total_cost = 0\n",
    "    depot_loads = np.zeros_like(capacities)\n",
    "    used_depots = set()\n",
    "    for customer, depot in enumerate(solution):\n",
    "        if depot_loads[depot] + demands[customer] > capacities[depot]:\n",
    "            return float('inf')\n",
    "        depot_loads[depot] += demands[customer]\n",
    "        total_cost += costs[customer][depot]\n",
    "        used_depots.add(depot)\n",
    "    total_cost += sum(setup_costs[d] for d in used_depots)\n",
    "    return total_cost\n",
    "\n",
    "def get_neighbors(solution, num_depots):\n",
    "    neighbors = []\n",
    "    for i in range(len(solution)):\n",
    "        for j in range(num_depots):\n",
    "            if solution[i] != j:\n",
    "                neighbor = solution.copy()\n",
    "                neighbor[i] = j\n",
    "                neighbors.append((i, j, neighbor))\n",
    "    return neighbors\n",
    "\n",
    "def tabu_search(num_depots, num_customers, capacities, setup_costs, demands, costs,\n",
    "                max_iter=100, tabu_tenure=7):\n",
    "    current_solution = np.random.randint(0, num_depots, size=num_customers)\n",
    "    current_cost = calculate_total_cost(current_solution, demands, setup_costs, costs, capacities)\n",
    "    best_solution = current_solution.copy()\n",
    "    best_cost = current_cost\n",
    "\n",
    "    tabu_list = {}\n",
    "\n",
    "    for iteration in range(max_iter):\n",
    "        neighbors = get_neighbors(current_solution, num_depots)\n",
    "        neighbors.sort(key=lambda x: calculate_total_cost(x[2], demands, setup_costs, costs, capacities))\n",
    "\n",
    "        for i, j, neighbor in neighbors:\n",
    "            move = (i, current_solution[i])\n",
    "            if move in tabu_list and tabu_list[move] > iteration:\n",
    "                continue\n",
    "            neighbor_cost = calculate_total_cost(neighbor, demands, setup_costs, costs, capacities)\n",
    "            if neighbor_cost < best_cost:\n",
    "                best_solution = neighbor.copy()\n",
    "                best_cost = neighbor_cost\n",
    "            current_solution = neighbor\n",
    "            current_cost = neighbor_cost\n",
    "            tabu_list[(i, neighbor[i])] = iteration + tabu_tenure\n",
    "            break\n",
    "\n",
    "    return best_solution, best_cost"
   ]
  },
  {
   "cell_type": "code",
   "execution_count": 15,
   "id": "f8712bad",
   "metadata": {},
   "outputs": [
    {
     "name": "stdout",
     "output_type": "stream",
     "text": [
      "Seçilen Depolar: [1, 3, 4, 6, 7, 8, 10, 12, 14, 16, 17, 18, 19, 20, 22, 23, 24]\n",
      "Müşterilerin Depo Seçimi: [7, 6, 4, 24, 20, 10, 1, 8, 20, 7, 3, 4, 10, 4, 6, 7, 3, 8, 20, 6, 20, 6, 10, 4, 19, 4, 12, 10, 19, 14, 19, 10, 19, 16, 19, 19, 17, 18, 23, 24, 19, 20, 7, 6, 22, 23, 23, 6, 24, 19]\n",
      "Toplam Maliyet: 809974.5375000001\n"
     ]
    }
   ],
   "source": [
    "file_path = \"Dataset/wl_25\"\n",
    "num_depots, num_customers, depot_capacities, setup_costs, customer_demands, costs = load_data(file_path)\n",
    "solution, cost = tabu_search(num_depots, num_customers, depot_capacities, setup_costs, customer_demands, costs)\n",
    "\n",
    "# Seçilen depolar ve müşteri-depo atamaları dizileri\n",
    "selected_depots = sorted(set(map(int, solution)))  # Kullanılan depolar\n",
    "customer_depot_assignments = list(map(int, solution))  # Müşteri-depo atamaları\n",
    "\n",
    "# Sonuçları yazdırma\n",
    "print(\"Seçilen Depolar:\", selected_depots)\n",
    "print(\"Müşterilerin Depo Seçimi:\", customer_depot_assignments)\n",
    "print(\"Toplam Maliyet:\", cost)\n"
   ]
  },
  {
   "cell_type": "code",
   "execution_count": 16,
   "id": "1553a0c1",
   "metadata": {},
   "outputs": [
    {
     "name": "stdout",
     "output_type": "stream",
     "text": [
      "Seçilen Depolar: [3, 4, 6, 10, 12, 14, 22, 25, 26, 33, 35, 44, 45, 49]\n",
      "Müşterilerin Depo Seçimi: [49, 49, 25, 3, 4, 25, 6, 12, 4, 35, 10, 22, 12, 25, 14, 35, 10, 22, 10, 14, 10, 14, 22, 25, 22, 25, 26, 22, 22, 25, 25, 22, 25, 33, 49, 35, 3, 12, 45, 3, 22, 10, 35, 14, 44, 45, 4, 14, 3, 49]\n",
      "Toplam Maliyet: 885003.5625\n"
     ]
    }
   ],
   "source": [
    "file_path = \"Dataset/wl_50\"\n",
    "num_depots, num_customers, depot_capacities, setup_costs, customer_demands, costs = load_data(file_path)\n",
    "solution, cost = tabu_search(num_depots, num_customers, depot_capacities, setup_costs, customer_demands, costs)\n",
    "\n",
    "# Seçilen depolar ve müşteri-depo atamaları dizileri\n",
    "selected_depots = sorted(set(map(int, solution)))  # Kullanılan depolar\n",
    "customer_depot_assignments = list(map(int, solution))  # Müşteri-depo atamaları\n",
    "\n",
    "# Sonuçları yazdırma\n",
    "print(\"Seçilen Depolar:\", selected_depots)\n",
    "print(\"Müşterilerin Depo Seçimi:\", customer_depot_assignments)\n",
    "print(\"Toplam Maliyet:\", cost)\n"
   ]
  },
  {
   "cell_type": "code",
   "execution_count": 17,
   "id": "e510df0c",
   "metadata": {},
   "outputs": [
    {
     "ename": "KeyboardInterrupt",
     "evalue": "",
     "output_type": "error",
     "traceback": [
      "\u001b[1;31m---------------------------------------------------------------------------\u001b[0m",
      "\u001b[1;31mKeyboardInterrupt\u001b[0m                         Traceback (most recent call last)",
      "Cell \u001b[1;32mIn[17], line 3\u001b[0m\n\u001b[0;32m      1\u001b[0m file_path \u001b[38;5;241m=\u001b[39m \u001b[38;5;124m\"\u001b[39m\u001b[38;5;124mDataset/wl_200\u001b[39m\u001b[38;5;124m\"\u001b[39m\n\u001b[0;32m      2\u001b[0m num_depots, num_customers, depot_capacities, setup_costs, customer_demands, costs \u001b[38;5;241m=\u001b[39m load_data(file_path)\n\u001b[1;32m----> 3\u001b[0m solution, cost \u001b[38;5;241m=\u001b[39m \u001b[43mtabu_search\u001b[49m\u001b[43m(\u001b[49m\u001b[43mnum_depots\u001b[49m\u001b[43m,\u001b[49m\u001b[43m \u001b[49m\u001b[43mnum_customers\u001b[49m\u001b[43m,\u001b[49m\u001b[43m \u001b[49m\u001b[43mdepot_capacities\u001b[49m\u001b[43m,\u001b[49m\u001b[43m \u001b[49m\u001b[43msetup_costs\u001b[49m\u001b[43m,\u001b[49m\u001b[43m \u001b[49m\u001b[43mcustomer_demands\u001b[49m\u001b[43m,\u001b[49m\u001b[43m \u001b[49m\u001b[43mcosts\u001b[49m\u001b[43m)\u001b[49m\n\u001b[0;32m      5\u001b[0m \u001b[38;5;66;03m# Seçilen depolar ve müşteri-depo atamaları dizileri\u001b[39;00m\n\u001b[0;32m      6\u001b[0m selected_depots \u001b[38;5;241m=\u001b[39m \u001b[38;5;28msorted\u001b[39m(\u001b[38;5;28mset\u001b[39m(\u001b[38;5;28mmap\u001b[39m(\u001b[38;5;28mint\u001b[39m, solution)))  \u001b[38;5;66;03m# Kullanılan depolar\u001b[39;00m\n",
      "Cell \u001b[1;32mIn[14], line 35\u001b[0m, in \u001b[0;36mtabu_search\u001b[1;34m(num_depots, num_customers, capacities, setup_costs, demands, costs, max_iter, tabu_tenure)\u001b[0m\n\u001b[0;32m     33\u001b[0m \u001b[38;5;28;01mfor\u001b[39;00m iteration \u001b[38;5;129;01min\u001b[39;00m \u001b[38;5;28mrange\u001b[39m(max_iter):\n\u001b[0;32m     34\u001b[0m     neighbors \u001b[38;5;241m=\u001b[39m get_neighbors(current_solution, num_depots)\n\u001b[1;32m---> 35\u001b[0m     \u001b[43mneighbors\u001b[49m\u001b[38;5;241;43m.\u001b[39;49m\u001b[43msort\u001b[49m\u001b[43m(\u001b[49m\u001b[43mkey\u001b[49m\u001b[38;5;241;43m=\u001b[39;49m\u001b[38;5;28;43;01mlambda\u001b[39;49;00m\u001b[43m \u001b[49m\u001b[43mx\u001b[49m\u001b[43m:\u001b[49m\u001b[43m \u001b[49m\u001b[43mcalculate_total_cost\u001b[49m\u001b[43m(\u001b[49m\u001b[43mx\u001b[49m\u001b[43m[\u001b[49m\u001b[38;5;241;43m2\u001b[39;49m\u001b[43m]\u001b[49m\u001b[43m,\u001b[49m\u001b[43m \u001b[49m\u001b[43mdemands\u001b[49m\u001b[43m,\u001b[49m\u001b[43m \u001b[49m\u001b[43msetup_costs\u001b[49m\u001b[43m,\u001b[49m\u001b[43m \u001b[49m\u001b[43mcosts\u001b[49m\u001b[43m,\u001b[49m\u001b[43m \u001b[49m\u001b[43mcapacities\u001b[49m\u001b[43m)\u001b[49m\u001b[43m)\u001b[49m\n\u001b[0;32m     37\u001b[0m     \u001b[38;5;28;01mfor\u001b[39;00m i, j, neighbor \u001b[38;5;129;01min\u001b[39;00m neighbors:\n\u001b[0;32m     38\u001b[0m         move \u001b[38;5;241m=\u001b[39m (i, current_solution[i])\n",
      "Cell \u001b[1;32mIn[14], line 35\u001b[0m, in \u001b[0;36mtabu_search.<locals>.<lambda>\u001b[1;34m(x)\u001b[0m\n\u001b[0;32m     33\u001b[0m \u001b[38;5;28;01mfor\u001b[39;00m iteration \u001b[38;5;129;01min\u001b[39;00m \u001b[38;5;28mrange\u001b[39m(max_iter):\n\u001b[0;32m     34\u001b[0m     neighbors \u001b[38;5;241m=\u001b[39m get_neighbors(current_solution, num_depots)\n\u001b[1;32m---> 35\u001b[0m     neighbors\u001b[38;5;241m.\u001b[39msort(key\u001b[38;5;241m=\u001b[39m\u001b[38;5;28;01mlambda\u001b[39;00m x: \u001b[43mcalculate_total_cost\u001b[49m\u001b[43m(\u001b[49m\u001b[43mx\u001b[49m\u001b[43m[\u001b[49m\u001b[38;5;241;43m2\u001b[39;49m\u001b[43m]\u001b[49m\u001b[43m,\u001b[49m\u001b[43m \u001b[49m\u001b[43mdemands\u001b[49m\u001b[43m,\u001b[49m\u001b[43m \u001b[49m\u001b[43msetup_costs\u001b[49m\u001b[43m,\u001b[49m\u001b[43m \u001b[49m\u001b[43mcosts\u001b[49m\u001b[43m,\u001b[49m\u001b[43m \u001b[49m\u001b[43mcapacities\u001b[49m\u001b[43m)\u001b[49m)\n\u001b[0;32m     37\u001b[0m     \u001b[38;5;28;01mfor\u001b[39;00m i, j, neighbor \u001b[38;5;129;01min\u001b[39;00m neighbors:\n\u001b[0;32m     38\u001b[0m         move \u001b[38;5;241m=\u001b[39m (i, current_solution[i])\n",
      "Cell \u001b[1;32mIn[14], line 10\u001b[0m, in \u001b[0;36mcalculate_total_cost\u001b[1;34m(solution, demands, setup_costs, costs, capacities)\u001b[0m\n\u001b[0;32m      8\u001b[0m     depot_loads[depot] \u001b[38;5;241m+\u001b[39m\u001b[38;5;241m=\u001b[39m demands[customer]\n\u001b[0;32m      9\u001b[0m     total_cost \u001b[38;5;241m+\u001b[39m\u001b[38;5;241m=\u001b[39m costs[customer][depot]\n\u001b[1;32m---> 10\u001b[0m     used_depots\u001b[38;5;241m.\u001b[39madd(depot)\n\u001b[0;32m     11\u001b[0m total_cost \u001b[38;5;241m+\u001b[39m\u001b[38;5;241m=\u001b[39m \u001b[38;5;28msum\u001b[39m(setup_costs[d] \u001b[38;5;28;01mfor\u001b[39;00m d \u001b[38;5;129;01min\u001b[39;00m used_depots)\n\u001b[0;32m     12\u001b[0m \u001b[38;5;28;01mreturn\u001b[39;00m total_cost\n",
      "\u001b[1;31mKeyboardInterrupt\u001b[0m: "
     ]
    }
   ],
   "source": [
    "file_path = \"Dataset/wl_200\"\n",
    "num_depots, num_customers, depot_capacities, setup_costs, customer_demands, costs = load_data(file_path)\n",
    "solution, cost = tabu_search(num_depots, num_customers, depot_capacities, setup_costs, customer_demands, costs)\n",
    "\n",
    "# Seçilen depolar ve müşteri-depo atamaları dizileri\n",
    "selected_depots = sorted(set(map(int, solution)))  # Kullanılan depolar\n",
    "customer_depot_assignments = list(map(int, solution))  # Müşteri-depo atamaları\n",
    "\n",
    "# Sonuçları yazdırma\n",
    "print(\"Seçilen Depolar:\", selected_depots)\n",
    "print(\"Müşterilerin Depo Seçimi:\", customer_depot_assignments)\n",
    "print(\"Toplam Maliyet:\", cost)\n"
   ]
  },
  {
   "cell_type": "code",
   "execution_count": null,
   "id": "f06714ee",
   "metadata": {},
   "outputs": [],
   "source": [
    "file_path = \"Dataset/wl_300\"\n",
    "num_depots, num_customers, depot_capacities, setup_costs, customer_demands, costs = load_data(file_path)\n",
    "solution, cost = tabu_search(num_depots, num_customers, depot_capacities, setup_costs, customer_demands, costs)\n",
    "\n",
    "# Seçilen depolar ve müşteri-depo atamaları dizileri\n",
    "selected_depots = sorted(set(map(int, solution)))  # Kullanılan depolar\n",
    "customer_depot_assignments = list(map(int, solution))  # Müşteri-depo atamaları\n",
    "\n",
    "# Sonuçları yazdırma\n",
    "print(\"Seçilen Depolar:\", selected_depots)\n",
    "print(\"Müşterilerin Depo Seçimi:\", customer_depot_assignments)\n",
    "print(\"Toplam Maliyet:\", cost)\n"
   ]
  },
  {
   "cell_type": "code",
   "execution_count": null,
   "id": "b67252e4",
   "metadata": {},
   "outputs": [],
   "source": [
    "file_path = \"Dataset/wl_500\"\n",
    "num_depots, num_customers, depot_capacities, setup_costs, customer_demands, costs = load_data(file_path)\n",
    "solution, cost = tabu_search(num_depots, num_customers, depot_capacities, setup_costs, customer_demands, costs)\n",
    "\n",
    "# Seçilen depolar ve müşteri-depo atamaları dizileri\n",
    "selected_depots = sorted(set(map(int, solution)))  # Kullanılan depolar\n",
    "customer_depot_assignments = list(map(int, solution))  # Müşteri-depo atamaları\n",
    "\n",
    "# Sonuçları yazdırma\n",
    "print(\"Seçilen Depolar:\", selected_depots)\n",
    "print(\"Müşterilerin Depo Seçimi:\", customer_depot_assignments)\n",
    "print(\"Toplam Maliyet:\", cost)\n"
   ]
  }
 ],
 "metadata": {
  "kernelspec": {
   "display_name": "ML",
   "language": "python",
   "name": "python3"
  },
  "language_info": {
   "codemirror_mode": {
    "name": "ipython",
    "version": 3
   },
   "file_extension": ".py",
   "mimetype": "text/x-python",
   "name": "python",
   "nbconvert_exporter": "python",
   "pygments_lexer": "ipython3",
   "version": "3.12.7"
  }
 },
 "nbformat": 4,
 "nbformat_minor": 5
}
