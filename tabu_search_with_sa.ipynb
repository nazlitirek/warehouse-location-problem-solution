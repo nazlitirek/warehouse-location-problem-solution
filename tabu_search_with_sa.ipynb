{
 "cells": [
  {
   "cell_type": "code",
   "execution_count": 2,
   "id": "65c735de",
   "metadata": {},
   "outputs": [],
   "source": [
    "from data_loader import load_data"
   ]
  },
  {
   "cell_type": "markdown",
   "id": "8de5b409",
   "metadata": {},
   "source": [
    "greedy → simulated annealing → tabu search\n",
    "\n",
    "This solution combines three optimization techniques: Greedy, Simulated Annealing (SA), and Tabu Search. First, a quick initial solution is generated using a greedy approach, which assigns each customer to the nearest depot that can accommodate their demand. Next, Simulated Annealing is applied to iteratively improve the solution by exploring neighboring solutions with a probability of accepting worse solutions, which decreases over time to avoid local minima. Finally, Tabu Search further refines the solution by maintaining a tabu list that prevents revisiting recently explored solutions, encouraging exploration of new, potentially better solutions. Together, these techniques balance exploration and exploitation, leading to an optimized solution for the facility location problem."
   ]
  },
  {
   "cell_type": "code",
   "execution_count": 4,
   "id": "3530bb49",
   "metadata": {},
   "outputs": [],
   "source": [
    "import random\n",
    "import numpy as np\n",
    "\n",
    "def total_cost(solution, setup_costs, costs):\n",
    "    depot_cost = sum(setup_costs[d] for d in solution['open_depots'])\n",
    "    transport_cost = sum(costs[i][solution['assignment'][i]] for i in range(len(solution['assignment'])))\n",
    "    return depot_cost + transport_cost\n",
    "\n",
    "def delta_cost(old_solution, new_solution, setup_costs, costs):\n",
    "    old_open = set(old_solution['open_depots'])\n",
    "    new_open = set(new_solution['open_depots'])\n",
    "    depot_diff = sum(setup_costs[d] for d in new_open - old_open) - sum(setup_costs[d] for d in old_open - new_open)\n",
    "    assignment_old = old_solution['assignment']\n",
    "    assignment_new = new_solution['assignment']\n",
    "    transport_diff = sum(\n",
    "        costs[i][assignment_new[i]] - costs[i][assignment_old[i]]\n",
    "        for i in range(len(assignment_old)) if assignment_new[i] != assignment_old[i]\n",
    "    )\n",
    "    return depot_diff + transport_diff\n",
    "\n",
    "def is_feasible(assignment, depot_capacities, customer_demands, n_depots):\n",
    "    depot_loads = [0] * n_depots\n",
    "    for i, d in enumerate(assignment):\n",
    "        depot_loads[d] += customer_demands[i]\n",
    "    return all(depot_loads[i] <= depot_capacities[i] for i in range(n_depots))\n",
    "\n",
    "def initial_solution(n_depots, n_customers, depot_capacities, setup_costs, customer_demands, costs):\n",
    "    assignment = [-1] * n_customers\n",
    "    remaining_capacity = depot_capacities[:]\n",
    "    for i in range(n_customers):\n",
    "        sorted_depots = sorted(range(n_depots), key=lambda d: costs[i][d])\n",
    "        for d in sorted_depots:\n",
    "            if remaining_capacity[d] >= customer_demands[i]:\n",
    "                assignment[i] = d\n",
    "                remaining_capacity[d] -= customer_demands[i]\n",
    "                break\n",
    "    open_depots = list(set(assignment))\n",
    "    return {'assignment': assignment, 'open_depots': open_depots}\n",
    "\n",
    "def get_neighbors_limited(solution, n_depots, depot_capacities, customer_demands, k=3):\n",
    "    neighbors = []\n",
    "    assignment = solution['assignment']\n",
    "    for _ in range(k):\n",
    "        i = random.randint(0, len(assignment)-1)\n",
    "        current_d = assignment[i]\n",
    "        for d in range(n_depots):\n",
    "            if d != current_d:\n",
    "                new_assignment = assignment[:]\n",
    "                new_assignment[i] = d\n",
    "                if is_feasible(new_assignment, depot_capacities, customer_demands, n_depots):\n",
    "                    open_depots = list(set(new_assignment))\n",
    "                    neighbors.append({'assignment': new_assignment, 'open_depots': open_depots})\n",
    "    return neighbors\n",
    "\n",
    "def simulated_annealing(n_depots, n_customers, depot_capacities, setup_costs, customer_demands, costs,\n",
    "                        initial_temp=1000, cooling_rate=0.95, max_iter=100, neighbor_k=5):\n",
    "    greedy = initial_solution(n_depots, n_customers, depot_capacities, setup_costs, customer_demands, costs)\n",
    "    current = tabu_search_optimized(greedy, n_depots, depot_capacities, customer_demands, setup_costs, costs)   \n",
    "    best = current\n",
    "    temp = initial_temp\n",
    "    for _ in range(max_iter):\n",
    "        neighbors = get_neighbors_limited(current, n_depots, depot_capacities, customer_demands, k=neighbor_k)\n",
    "        if not neighbors:\n",
    "            break\n",
    "        candidate = random.choice(neighbors)\n",
    "        cost_diff = total_cost(candidate, setup_costs, costs) - total_cost(current, setup_costs, costs)\n",
    "        if cost_diff < 0 or random.random() < np.exp(-cost_diff / temp):\n",
    "            current = candidate\n",
    "            if total_cost(current, setup_costs, costs) < total_cost(best, setup_costs, costs):\n",
    "                best = current\n",
    "        temp *= cooling_rate\n",
    "    best_cost = total_cost(best, setup_costs, costs)\n",
    "    return best, best_cost\n",
    "\n",
    "\n",
    "def tabu_search_optimized(initial_sol, n_depots, depot_capacities, customer_demands,\n",
    "                          setup_costs, costs, max_iter=50, tabu_tenure=5, neighbor_k=10, runs=3):\n",
    "    best_global = None\n",
    "    for _ in range(runs):\n",
    "        current = initial_sol\n",
    "        best = current\n",
    "        best_cost = total_cost(best, setup_costs, costs)\n",
    "        tabu_list = []\n",
    "        for _ in range(max_iter):\n",
    "            neighbors = get_neighbors_limited(current, n_depots, depot_capacities, customer_demands, k=neighbor_k)\n",
    "            neighbors = [n for n in neighbors if n['assignment'] not in tabu_list]\n",
    "            if not neighbors:\n",
    "                break\n",
    "            candidate = min(neighbors, key=lambda s: delta_cost(current, s, setup_costs, costs))\n",
    "            cost_candidate = total_cost(candidate, setup_costs, costs)\n",
    "            if cost_candidate < best_cost:\n",
    "                best = candidate\n",
    "                best_cost = cost_candidate\n",
    "            tabu_list.append(candidate['assignment'])\n",
    "            if len(tabu_list) > tabu_tenure:\n",
    "                tabu_list.pop(0)\n",
    "            current = candidate\n",
    "        if best_global is None or total_cost(best, setup_costs, costs) < total_cost(best_global, setup_costs, costs):\n",
    "            best_global = best\n",
    "    return best_global\n"
   ]
  },
  {
   "cell_type": "code",
   "execution_count": 5,
   "id": "f8712bad",
   "metadata": {},
   "outputs": [
    {
     "name": "stdout",
     "output_type": "stream",
     "text": [
      "Total cost :  799544.275\n",
      "Assignment :  {'assignment': [7, 11, 0, 24, 20, 0, 1, 5, 20, 7, 3, 10, 5, 0, 6, 7, 3, 8, 20, 6, 20, 6, 10, 0, 11, 10, 12, 10, 10, 0, 15, 10, 15, 16, 11, 11, 17, 5, 23, 24, 10, 20, 7, 6, 22, 23, 23, 6, 24, 11], 'open_depots': [0, 1, 3, 5, 6, 7, 8, 10, 11, 12, 15, 16, 17, 20, 22, 23, 24]}\n"
     ]
    }
   ],
   "source": [
    "filename = 'Dataset/wl_25'\n",
    "n_depots, n_customers, depot_capacities, setup_costs, customer_demands, costs = load_data(filename)\n",
    "\n",
    "sa_solution, sa_cost = simulated_annealing(n_depots, n_customers, depot_capacities, setup_costs, customer_demands, costs,\n",
    "                               initial_temp=1000, cooling_rate=0.9, max_iter=30, neighbor_k=3)\n",
    "\n",
    "print(\"Total cost : \",sa_cost)\n",
    "print(\"Assignment : \",sa_solution)"
   ]
  },
  {
   "cell_type": "code",
   "execution_count": 6,
   "id": "1553a0c1",
   "metadata": {},
   "outputs": [
    {
     "name": "stdout",
     "output_type": "stream",
     "text": [
      "Total cost :  925627.2625\n",
      "Assignment :  {'assignment': [19, 24, 25, 48, 4, 5, 36, 12, 4, 15, 22, 22, 12, 25, 14, 15, 16, 22, 41, 19, 16, 14, 22, 23, 24, 25, 26, 22, 40, 23, 5, 22, 5, 33, 24, 16, 36, 12, 45, 48, 40, 41, 15, 14, 44, 45, 4, 19, 48, 24], 'open_depots': [4, 5, 12, 14, 15, 16, 19, 22, 23, 24, 25, 26, 33, 36, 40, 41, 44, 45, 48]}\n"
     ]
    }
   ],
   "source": [
    "filename = 'Dataset/wl_50'\n",
    "n_depots, n_customers, depot_capacities, setup_costs, customer_demands, costs = load_data(filename)\n",
    "\n",
    "sa_solution, sa_cost = simulated_annealing(n_depots, n_customers, depot_capacities, setup_costs, customer_demands, costs,\n",
    "                               initial_temp=1000, cooling_rate=0.9, max_iter=30, neighbor_k=3)\n",
    "\n",
    "print(\"Total cost : \",sa_cost)\n",
    "print(\"Assignment : \",sa_solution)"
   ]
  },
  {
   "cell_type": "code",
   "execution_count": null,
   "id": "e510df0c",
   "metadata": {},
   "outputs": [
    {
     "name": "stdout",
     "output_type": "stream",
     "text": [
      "Total cost :  29819.08121\n",
      "Assignment :  {'assignment': [197, 95, 84, 125, 24, 53, 185, 93, 113, 198, 178, 198, 111, 51, 162, 47, 71, 23, 148, 24, 158, 137, 71, 126, 32, 48, 163, 95, 106, 34, 184, 178, 48, 93, 147, 102, 150, 20, 70, 117, 79, 108, 160, 147, 158, 84, 19, 63, 133, 126, 165, 125, 158, 32, 162, 129, 13, 106, 51, 53, 95, 162, 102, 53, 85, 171, 165, 121, 70, 38, 166, 49, 45, 64, 147, 25, 144, 5, 20, 81, 198, 4, 111, 178, 53, 160, 109, 24, 150, 99, 45, 24, 75, 184, 128, 102, 169, 176, 12, 121, 34, 165, 38, 168, 53, 25, 129, 13, 198, 23, 93, 49, 47, 95, 19, 190, 113, 163, 166, 66, 196, 52, 61, 0, 24, 126, 85, 28, 34, 107, 13, 84, 153, 5, 169, 163, 75, 70, 184, 108, 168, 106, 21, 176, 149, 45, 0, 110, 71, 70, 12, 113, 128, 0, 128, 111, 153, 12, 186, 3, 190, 71, 153, 86, 133, 86, 12, 198, 110, 195, 66, 109, 144, 70, 86, 127, 149, 176, 176, 21, 28, 66, 196, 3, 149, 178, 139, 198, 185, 79, 4, 117, 144, 19, 139, 107, 107, 137, 22, 13], 'open_depots': [0, 3, 4, 5, 12, 13, 19, 20, 21, 22, 23, 24, 25, 28, 32, 34, 38, 45, 47, 48, 49, 51, 52, 53, 61, 63, 64, 66, 70, 71, 75, 79, 81, 84, 85, 86, 93, 95, 99, 102, 106, 107, 108, 109, 110, 111, 113, 117, 121, 125, 126, 127, 128, 129, 133, 137, 139, 144, 147, 148, 149, 150, 153, 158, 160, 162, 163, 165, 166, 168, 169, 171, 176, 178, 184, 185, 186, 190, 195, 196, 197, 198]}\n"
     ]
    }
   ],
   "source": [
    "filename = 'Dataset/wl_200'\n",
    "n_depots, n_customers, depot_capacities, setup_costs, customer_demands, costs = load_data(filename)\n",
    "\n",
    "sa_solution, sa_cost = simulated_annealing(n_depots, n_customers, depot_capacities, setup_costs, customer_demands, costs,\n",
    "                               initial_temp=1000, cooling_rate=0.9, max_iter=30, neighbor_k=3)\n",
    "\n",
    "print(\"Total cost : \",sa_cost)\n",
    "print(\"Assignment : \",sa_solution)"
   ]
  },
  {
   "cell_type": "code",
   "execution_count": 8,
   "id": "f06714ee",
   "metadata": {},
   "outputs": [
    {
     "name": "stdout",
     "output_type": "stream",
     "text": [
      "Total cost :  73683.82339\n",
      "Assignment :  {'assignment': [134, 53, 292, 256, 125, 90, 225, 275, 181, 100, 221, 275, 240, 53, 156, 202, 161, 4, 200, 118, 238, 268, 42, 226, 103, 169, 149, 147, 268, 126, 220, 51, 236, 172, 237, 48, 19, 126, 284, 212, 22, 131, 289, 12, 219, 256, 284, 48, 83, 11, 93, 71, 273, 281, 187, 175, 148, 264, 59, 166, 296, 122, 28, 34, 181, 237, 92, 126, 178, 219, 140, 253, 62, 204, 172, 148, 42, 56, 234, 58, 125, 297, 22, 219, 12, 252, 268, 140, 96, 12, 13, 27, 217, 46, 296, 28, 199, 96, 84, 266, 141, 100, 166, 219, 181, 164, 69, 13, 282, 19, 266, 170, 133, 59, 3, 201, 82, 18, 211, 84, 93, 163, 23, 175, 240, 296, 296, 62, 192, 103, 136, 264, 221, 113, 297, 164, 292, 187, 281, 2, 27, 278, 42, 20, 187, 202, 19, 122, 134, 117, 46, 24, 213, 209, 93, 186, 13, 206, 103, 257, 210, 172, 135, 19, 119, 11, 27, 232, 118, 289, 253, 103, 54, 12, 268, 284, 164, 172, 140, 155, 0, 204, 219, 264, 288, 97, 188, 138, 2, 113, 52, 238, 268, 61, 210, 46, 54, 288, 22, 0, 172, 96, 242, 38, 13, 11, 140, 272, 24, 100, 13, 69, 117, 188, 240, 181, 292, 52, 134, 100, 18, 147, 49, 278, 22, 18, 265, 199, 119, 20, 16, 170, 252, 3, 134, 281, 115, 273, 272, 100, 24, 225, 4, 133, 217, 217, 282, 126, 202, 59, 0, 140, 173, 51, 284, 107, 115, 289, 0, 185, 234, 175, 4, 236, 231, 84, 226, 258, 103, 221, 236, 278, 237, 272, 287, 119, 252, 19, 201, 100, 204, 211, 59, 16, 27, 199, 121, 31, 217, 173, 161, 272, 53, 187, 106, 148, 289, 232, 54, 71], 'open_depots': [0, 2, 3, 4, 11, 12, 13, 16, 18, 19, 20, 22, 23, 24, 27, 28, 31, 34, 38, 42, 46, 48, 49, 51, 52, 53, 54, 56, 58, 59, 61, 62, 69, 71, 82, 83, 84, 90, 92, 93, 96, 97, 100, 103, 106, 107, 113, 115, 117, 118, 119, 121, 122, 125, 126, 131, 133, 134, 135, 136, 138, 140, 141, 147, 148, 149, 155, 156, 161, 163, 164, 166, 169, 170, 172, 173, 175, 178, 181, 185, 186, 187, 188, 192, 199, 200, 201, 202, 204, 206, 209, 210, 211, 212, 213, 217, 219, 220, 221, 225, 226, 231, 232, 234, 236, 237, 238, 240, 242, 252, 253, 256, 257, 258, 264, 265, 266, 268, 272, 273, 275, 278, 281, 282, 284, 287, 288, 289, 292, 296, 297]}\n"
     ]
    }
   ],
   "source": [
    "filename = 'Dataset/wl_300'\n",
    "n_depots, n_customers, depot_capacities, setup_costs, customer_demands, costs = load_data(filename)\n",
    "\n",
    "sa_solution, sa_cost = simulated_annealing(n_depots, n_customers, depot_capacities, setup_costs, customer_demands, costs,\n",
    "                               initial_temp=1000, cooling_rate=0.9, max_iter=30, neighbor_k=3)\n",
    "\n",
    "print(\"Total cost : \",sa_cost)\n",
    "print(\"Assignment : \",sa_solution)"
   ]
  },
  {
   "cell_type": "code",
   "execution_count": 9,
   "id": "b67252e4",
   "metadata": {},
   "outputs": [
    {
     "name": "stdout",
     "output_type": "stream",
     "text": [
      "Total cost :  81305.15052000001\n",
      "Assignment :  {'assignment': [432, 79, 473, 419, 269, 355, 87, 51, 60, 324, 260, 38, 31, 66, 176, 344, 161, 168, 471, 276, 94, 458, 499, 154, 174, 290, 76, 459, 437, 458, 96, 138, 475, 372, 196, 442, 141, 98, 269, 164, 427, 243, 375, 462, 369, 31, 149, 238, 245, 484, 35, 140, 256, 467, 166, 338, 384, 385, 276, 94, 420, 121, 446, 221, 379, 285, 351, 381, 133, 285, 460, 472, 184, 304, 115, 487, 406, 261, 351, 429, 94, 243, 54, 135, 217, 121, 350, 337, 470, 128, 320, 445, 272, 234, 176, 176, 403, 111, 2, 443, 268, 84, 144, 426, 109, 497, 171, 245, 183, 183, 409, 473, 8, 412, 110, 123, 356, 407, 63, 15, 443, 408, 391, 58, 214, 144, 121, 123, 337, 102, 265, 435, 386, 419, 499, 279, 225, 17, 397, 118, 336, 25, 8, 416, 64, 484, 200, 33, 433, 164, 367, 232, 325, 216, 301, 367, 111, 109, 371, 324, 256, 82, 131, 285, 135, 19, 2, 275, 367, 0, 475, 141, 407, 165, 60, 497, 76, 103, 130, 106, 443, 174, 266, 365, 252, 102, 27, 51, 489, 350, 435, 265, 333, 13, 386, 337, 431, 375, 351, 476, 75, 348, 126, 54, 133, 118, 485, 195, 37, 325, 158, 196, 413, 37, 344, 297, 31, 6, 486, 135, 459, 27, 479, 22, 431, 308, 262, 168, 399, 53, 269, 395, 336, 73, 135, 367, 480, 131, 67, 122, 318, 113, 21, 38, 21, 59, 448, 196, 6, 274, 144, 113, 463, 256, 421, 266, 458, 462, 434, 331, 426, 482, 94, 149, 420, 166, 6, 301, 274, 182, 384, 78, 247, 31, 344, 175, 204, 364, 371, 274, 206, 435, 252, 206, 12, 182, 88, 182, 221, 432, 448, 216, 12, 103, 12, 64, 204, 4, 332, 421, 367, 363, 393, 82, 204, 386, 385, 231, 114, 128, 433, 391, 58, 65, 304, 263, 90, 108, 140, 262, 182, 408, 322, 214, 395, 482, 461, 381, 402, 493, 446, 281, 220, 270, 151, 200, 113, 308, 306, 462, 140, 213, 59, 471, 333, 42, 434, 112, 364, 178, 275, 165, 350, 198, 254, 19, 482, 496, 26, 368, 318, 65, 162, 134, 61, 154, 319, 103, 129, 489, 312, 426, 427, 56, 279, 78, 128, 19, 144, 192, 280, 286, 147, 481, 153, 426, 481, 484, 108, 276, 332, 106, 244, 384, 56, 74, 485, 257, 64, 114, 257, 112, 73, 464, 134, 75, 461, 459, 297, 446, 278, 333, 455, 487, 354, 263, 22, 8, 386, 463, 416, 460, 166, 318, 384, 23, 61, 318, 281, 195, 464, 8, 413, 225, 73, 476, 425, 395, 369, 473, 2, 127, 306, 14, 350, 276, 138, 187, 431, 345, 421, 19, 407, 379, 271, 380, 150, 385, 402, 437, 325, 220, 470, 84, 274, 122, 54, 13, 346, 403, 8, 58, 480, 387, 52, 458, 390, 12, 4, 192, 135, 2, 496, 115, 425, 380, 480, 321, 19, 342, 354, 371, 473, 460, 66, 395, 78, 265, 407, 271], 'open_depots': [0, 2, 4, 6, 8, 12, 13, 14, 15, 17, 19, 21, 22, 23, 25, 26, 27, 31, 33, 35, 37, 38, 42, 51, 52, 53, 54, 56, 58, 59, 60, 61, 63, 64, 65, 66, 67, 73, 74, 75, 76, 78, 79, 82, 84, 87, 88, 90, 94, 96, 98, 102, 103, 106, 108, 109, 110, 111, 112, 113, 114, 115, 118, 121, 122, 123, 126, 127, 128, 129, 130, 131, 133, 134, 135, 138, 140, 141, 144, 147, 149, 150, 151, 153, 154, 158, 161, 162, 164, 165, 166, 168, 171, 174, 175, 176, 178, 182, 183, 184, 187, 192, 195, 196, 198, 200, 204, 206, 213, 214, 216, 217, 220, 221, 225, 231, 232, 234, 238, 243, 244, 245, 247, 252, 254, 256, 257, 260, 261, 262, 263, 265, 266, 268, 269, 270, 271, 272, 274, 275, 276, 278, 279, 280, 281, 285, 286, 290, 297, 301, 304, 306, 308, 312, 318, 319, 320, 321, 322, 324, 325, 331, 332, 333, 336, 337, 338, 342, 344, 345, 346, 348, 350, 351, 354, 355, 356, 363, 364, 365, 367, 368, 369, 371, 372, 375, 379, 380, 381, 384, 385, 386, 387, 390, 391, 393, 395, 397, 399, 402, 403, 406, 407, 408, 409, 412, 413, 416, 419, 420, 421, 425, 426, 427, 429, 431, 432, 433, 434, 435, 437, 442, 443, 445, 446, 448, 455, 458, 459, 460, 461, 462, 463, 464, 467, 470, 471, 472, 473, 475, 476, 479, 480, 481, 482, 484, 485, 486, 487, 489, 493, 496, 497, 499]}\n"
     ]
    }
   ],
   "source": [
    "filename = 'Dataset/wl_500'\n",
    "n_depots, n_customers, depot_capacities, setup_costs, customer_demands, costs = load_data(filename)\n",
    "\n",
    "sa_solution, sa_cost = simulated_annealing(n_depots, n_customers, depot_capacities, setup_costs, customer_demands, costs,\n",
    "                               initial_temp=1000, cooling_rate=0.9, max_iter=30, neighbor_k=3)\n",
    "\n",
    "print(\"Total cost : \",sa_cost)\n",
    "print(\"Assignment : \",sa_solution)"
   ]
  }
 ],
 "metadata": {
  "kernelspec": {
   "display_name": "ML",
   "language": "python",
   "name": "python3"
  },
  "language_info": {
   "codemirror_mode": {
    "name": "ipython",
    "version": 3
   },
   "file_extension": ".py",
   "mimetype": "text/x-python",
   "name": "python",
   "nbconvert_exporter": "python",
   "pygments_lexer": "ipython3",
   "version": "3.12.7"
  }
 },
 "nbformat": 4,
 "nbformat_minor": 5
}
