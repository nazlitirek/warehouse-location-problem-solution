{
 "cells": [
  {
   "cell_type": "code",
   "execution_count": 1,
   "id": "65c735de",
   "metadata": {},
   "outputs": [],
   "source": [
    "from data_loader import load_data"
   ]
  },
  {
   "cell_type": "markdown",
   "id": "8de5b409",
   "metadata": {},
   "source": [
    "greedy  → tabu search → simulated annealing\n",
    "\n",
    "This solution combines three optimization techniques: Greedy, Simulated Annealing (SA), and Tabu Search. First, a quick initial solution is generated using a greedy approach, which assigns each customer to the nearest depot that can accommodate their demand. Next, Simulated Annealing is applied to iteratively improve the solution by exploring neighboring solutions with a probability of accepting worse solutions, which decreases over time to avoid local minima. Finally, Tabu Search further refines the solution by maintaining a tabu list that prevents revisiting recently explored solutions, encouraging exploration of new, potentially better solutions. Together, these techniques balance exploration and exploitation, leading to an optimized solution for the facility location problem."
   ]
  },
  {
   "cell_type": "code",
   "execution_count": 3,
   "id": "3530bb49",
   "metadata": {},
   "outputs": [],
   "source": [
    "import random\n",
    "import numpy as np\n",
    "\n",
    "def total_cost(solution, setup_costs, costs):\n",
    "    depot_cost = sum(setup_costs[d] for d in solution['open_depots'])\n",
    "    transport_cost = sum(costs[i][solution['assignment'][i]] for i in range(len(solution['assignment'])))\n",
    "    return depot_cost + transport_cost\n",
    "\n",
    "def delta_cost(old_solution, new_solution, setup_costs, costs):\n",
    "    old_open = set(old_solution['open_depots'])\n",
    "    new_open = set(new_solution['open_depots'])\n",
    "    depot_diff = sum(setup_costs[d] for d in new_open - old_open) - sum(setup_costs[d] for d in old_open - new_open)\n",
    "    assignment_old = old_solution['assignment']\n",
    "    assignment_new = new_solution['assignment']\n",
    "    transport_diff = sum(\n",
    "        costs[i][assignment_new[i]] - costs[i][assignment_old[i]]\n",
    "        for i in range(len(assignment_old)) if assignment_new[i] != assignment_old[i]\n",
    "    )\n",
    "    return depot_diff + transport_diff\n",
    "\n",
    "def is_feasible(assignment, depot_capacities, customer_demands, n_depots):\n",
    "    depot_loads = [0] * n_depots\n",
    "    for i, d in enumerate(assignment):\n",
    "        depot_loads[d] += customer_demands[i]\n",
    "    return all(depot_loads[i] <= depot_capacities[i] for i in range(n_depots))\n",
    "\n",
    "def initial_solution(n_depots, n_customers, depot_capacities, setup_costs, customer_demands, costs):\n",
    "    assignment = [-1] * n_customers\n",
    "    remaining_capacity = depot_capacities[:]\n",
    "    for i in range(n_customers):\n",
    "        sorted_depots = sorted(range(n_depots), key=lambda d: costs[i][d])\n",
    "        for d in sorted_depots:\n",
    "            if remaining_capacity[d] >= customer_demands[i]:\n",
    "                assignment[i] = d\n",
    "                remaining_capacity[d] -= customer_demands[i]\n",
    "                break\n",
    "    open_depots = list(set(assignment))\n",
    "    return {'assignment': assignment, 'open_depots': open_depots}\n",
    "\n",
    "def get_neighbors_limited(solution, n_depots, depot_capacities, customer_demands, k=3):\n",
    "    neighbors = []\n",
    "    assignment = solution['assignment']\n",
    "    for _ in range(k):\n",
    "        i = random.randint(0, len(assignment)-1)\n",
    "        current_d = assignment[i]\n",
    "        for d in range(n_depots):\n",
    "            if d != current_d:\n",
    "                new_assignment = assignment[:]\n",
    "                new_assignment[i] = d\n",
    "                if is_feasible(new_assignment, depot_capacities, customer_demands, n_depots):\n",
    "                    open_depots = list(set(new_assignment))\n",
    "                    neighbors.append({'assignment': new_assignment, 'open_depots': open_depots})\n",
    "    return neighbors\n",
    "\n",
    "def simulated_annealing(n_depots, n_customers, depot_capacities, setup_costs, customer_demands, costs,\n",
    "                        initial_temp=1000, cooling_rate=0.95, max_iter=100, neighbor_k=5):\n",
    "    greedy = initial_solution(n_depots, n_customers, depot_capacities, setup_costs, customer_demands, costs)\n",
    "    current = tabu_search_optimized(greedy, n_depots, depot_capacities, customer_demands, setup_costs, costs)   \n",
    "    best = current\n",
    "    temp = initial_temp\n",
    "    for _ in range(max_iter):\n",
    "        neighbors = get_neighbors_limited(current, n_depots, depot_capacities, customer_demands, k=neighbor_k)\n",
    "        if not neighbors:\n",
    "            break\n",
    "        candidate = random.choice(neighbors)\n",
    "        cost_diff = total_cost(candidate, setup_costs, costs) - total_cost(current, setup_costs, costs)\n",
    "        if cost_diff < 0 or random.random() < np.exp(-cost_diff / temp):\n",
    "            current = candidate\n",
    "            if total_cost(current, setup_costs, costs) < total_cost(best, setup_costs, costs):\n",
    "                best = current\n",
    "        temp *= cooling_rate\n",
    "    best_cost = total_cost(best, setup_costs, costs)\n",
    "    return best, best_cost\n",
    "\n",
    "\n",
    "def tabu_search_optimized(initial_sol, n_depots, depot_capacities, customer_demands,\n",
    "                          setup_costs, costs, max_iter=50, tabu_tenure=5, neighbor_k=10, runs=3):\n",
    "    best_global = None\n",
    "    for _ in range(runs):\n",
    "        current = initial_sol\n",
    "        best = current\n",
    "        best_cost = total_cost(best, setup_costs, costs)\n",
    "        tabu_list = []\n",
    "        for _ in range(max_iter):\n",
    "            neighbors = get_neighbors_limited(current, n_depots, depot_capacities, customer_demands, k=neighbor_k)\n",
    "            neighbors = [n for n in neighbors if n['assignment'] not in tabu_list]\n",
    "            if not neighbors:\n",
    "                break\n",
    "            candidate = min(neighbors, key=lambda s: delta_cost(current, s, setup_costs, costs))\n",
    "            cost_candidate = total_cost(candidate, setup_costs, costs)\n",
    "            if cost_candidate < best_cost:\n",
    "                best = candidate\n",
    "                best_cost = cost_candidate\n",
    "            tabu_list.append(candidate['assignment'])\n",
    "            if len(tabu_list) > tabu_tenure:\n",
    "                tabu_list.pop(0)\n",
    "            current = candidate\n",
    "        if best_global is None or total_cost(best, setup_costs, costs) < total_cost(best_global, setup_costs, costs):\n",
    "            best_global = best\n",
    "    return best_global\n"
   ]
  },
  {
   "cell_type": "code",
   "execution_count": 4,
   "id": "f8712bad",
   "metadata": {},
   "outputs": [
    {
     "name": "stdout",
     "output_type": "stream",
     "text": [
      "Total cost :  801525.9\n",
      "Assignment :  {'assignment': [7, 6, 0, 24, 7, 0, 1, 5, 7, 7, 3, 10, 5, 0, 6, 7, 19, 8, 20, 6, 20, 6, 10, 0, 11, 10, 12, 10, 19, 0, 15, 10, 15, 16, 11, 11, 17, 5, 23, 24, 19, 20, 7, 6, 22, 23, 23, 11, 24, 11], 'open_depots': [0, 1, 3, 5, 6, 7, 8, 10, 11, 12, 15, 16, 17, 19, 20, 22, 23, 24]}\n"
     ]
    }
   ],
   "source": [
    "filename = 'Dataset/wl_25'\n",
    "n_depots, n_customers, depot_capacities, setup_costs, customer_demands, costs = load_data(filename)\n",
    "\n",
    "sa_solution, sa_cost = simulated_annealing(n_depots, n_customers, depot_capacities, setup_costs, customer_demands, costs,\n",
    "                               initial_temp=1000, cooling_rate=0.9, max_iter=30, neighbor_k=3)\n",
    "\n",
    "print(\"Total cost : \",sa_cost)\n",
    "print(\"Assignment : \",sa_solution)"
   ]
  },
  {
   "cell_type": "code",
   "execution_count": 5,
   "id": "1553a0c1",
   "metadata": {},
   "outputs": [
    {
     "name": "stdout",
     "output_type": "stream",
     "text": [
      "Total cost :  920309.8625\n",
      "Assignment :  {'assignment': [34, 34, 25, 48, 15, 5, 36, 12, 46, 15, 10, 22, 12, 25, 34, 15, 16, 22, 41, 19, 16, 21, 22, 5, 24, 25, 26, 22, 22, 5, 30, 22, 30, 33, 34, 16, 36, 12, 46, 48, 22, 41, 15, 21, 44, 46, 46, 19, 48, 24], 'open_depots': [5, 10, 12, 15, 16, 19, 21, 22, 24, 25, 26, 30, 33, 34, 36, 41, 44, 46, 48]}\n"
     ]
    }
   ],
   "source": [
    "filename = 'Dataset/wl_50'\n",
    "n_depots, n_customers, depot_capacities, setup_costs, customer_demands, costs = load_data(filename)\n",
    "\n",
    "sa_solution, sa_cost = simulated_annealing(n_depots, n_customers, depot_capacities, setup_costs, customer_demands, costs,\n",
    "                               initial_temp=1000, cooling_rate=0.9, max_iter=30, neighbor_k=3)\n",
    "\n",
    "print(\"Total cost : \",sa_cost)\n",
    "print(\"Assignment : \",sa_solution)"
   ]
  },
  {
   "cell_type": "code",
   "execution_count": 6,
   "id": "e510df0c",
   "metadata": {},
   "outputs": [
    {
     "name": "stdout",
     "output_type": "stream",
     "text": [
      "Total cost :  29618.163\n",
      "Assignment :  {'assignment': [197, 95, 84, 125, 24, 53, 198, 93, 34, 198, 178, 198, 111, 101, 162, 47, 66, 23, 148, 2, 158, 137, 71, 126, 32, 48, 163, 95, 106, 34, 184, 178, 48, 93, 52, 102, 150, 20, 40, 3, 79, 149, 194, 147, 158, 84, 19, 126, 133, 126, 165, 125, 158, 32, 162, 129, 13, 79, 126, 53, 154, 162, 102, 53, 78, 171, 165, 121, 70, 38, 166, 49, 87, 154, 147, 25, 113, 5, 20, 81, 198, 138, 111, 178, 53, 195, 150, 24, 150, 2, 45, 24, 75, 184, 128, 102, 169, 176, 12, 121, 124, 165, 38, 168, 53, 25, 8, 13, 198, 23, 93, 49, 47, 95, 19, 53, 113, 163, 166, 66, 196, 52, 23, 0, 24, 126, 124, 28, 34, 107, 13, 84, 153, 5, 169, 163, 75, 31, 105, 40, 168, 106, 21, 176, 149, 45, 0, 110, 71, 70, 12, 113, 31, 0, 105, 154, 153, 12, 196, 3, 32, 71, 153, 86, 133, 86, 12, 198, 110, 195, 66, 109, 144, 70, 86, 125, 149, 176, 176, 21, 28, 66, 157, 3, 149, 101, 139, 198, 27, 79, 78, 49, 144, 19, 139, 107, 40, 137, 22, 13], 'open_depots': [0, 2, 3, 5, 8, 12, 13, 19, 20, 21, 22, 23, 24, 25, 27, 28, 31, 32, 34, 38, 40, 45, 47, 48, 49, 52, 53, 66, 70, 71, 75, 78, 79, 81, 84, 86, 87, 93, 95, 101, 102, 105, 106, 107, 109, 110, 111, 113, 121, 124, 125, 126, 128, 129, 133, 137, 138, 139, 144, 147, 148, 149, 150, 153, 154, 157, 158, 162, 163, 165, 166, 168, 169, 171, 176, 178, 184, 194, 195, 196, 197, 198]}\n"
     ]
    }
   ],
   "source": [
    "filename = 'Dataset/wl_200'\n",
    "n_depots, n_customers, depot_capacities, setup_costs, customer_demands, costs = load_data(filename)\n",
    "\n",
    "sa_solution, sa_cost = simulated_annealing(n_depots, n_customers, depot_capacities, setup_costs, customer_demands, costs,\n",
    "                               initial_temp=1000, cooling_rate=0.9, max_iter=30, neighbor_k=3)\n",
    "\n",
    "print(\"Total cost : \",sa_cost)\n",
    "print(\"Assignment : \",sa_solution)"
   ]
  },
  {
   "cell_type": "code",
   "execution_count": 7,
   "id": "f06714ee",
   "metadata": {},
   "outputs": [
    {
     "name": "stdout",
     "output_type": "stream",
     "text": [
      "Total cost :  73085.42680999999\n",
      "Assignment :  {'assignment': [134, 53, 292, 256, 125, 90, 225, 275, 35, 100, 221, 275, 240, 235, 186, 49, 161, 4, 252, 118, 238, 268, 42, 226, 103, 169, 28, 147, 268, 126, 220, 51, 236, 36, 237, 48, 19, 132, 284, 107, 22, 131, 289, 12, 219, 256, 284, 48, 83, 11, 74, 71, 273, 77, 187, 175, 148, 264, 59, 290, 132, 122, 28, 28, 181, 208, 92, 126, 178, 219, 140, 253, 62, 204, 172, 148, 42, 235, 234, 58, 125, 297, 22, 219, 12, 252, 268, 140, 96, 12, 13, 27, 217, 101, 296, 28, 258, 69, 84, 196, 141, 100, 166, 219, 181, 164, 69, 272, 282, 19, 266, 132, 141, 277, 129, 201, 82, 18, 211, 84, 93, 163, 204, 175, 240, 296, 296, 62, 219, 103, 277, 264, 221, 113, 297, 276, 292, 187, 281, 2, 27, 278, 42, 20, 187, 202, 19, 122, 134, 117, 46, 35, 70, 209, 93, 186, 13, 206, 103, 257, 210, 172, 135, 19, 119, 11, 27, 232, 118, 289, 253, 103, 54, 12, 268, 284, 164, 231, 140, 155, 0, 204, 219, 264, 288, 90, 188, 275, 2, 113, 52, 238, 268, 28, 210, 46, 54, 288, 22, 0, 172, 96, 279, 38, 282, 11, 140, 272, 101, 100, 13, 69, 117, 188, 40, 181, 292, 52, 174, 100, 101, 147, 49, 278, 22, 18, 265, 20, 119, 20, 141, 125, 252, 239, 134, 281, 115, 273, 272, 100, 126, 225, 220, 83, 217, 217, 74, 126, 202, 59, 0, 1, 173, 51, 284, 107, 115, 289, 0, 185, 234, 235, 4, 236, 231, 84, 226, 258, 103, 221, 248, 278, 237, 272, 287, 239, 252, 19, 201, 100, 204, 211, 59, 279, 27, 124, 219, 84, 217, 173, 161, 272, 53, 187, 106, 148, 289, 232, 54, 160], 'open_depots': [0, 1, 2, 4, 11, 12, 13, 18, 19, 20, 22, 27, 28, 35, 36, 38, 40, 42, 46, 48, 49, 51, 52, 53, 54, 58, 59, 62, 69, 70, 71, 74, 77, 82, 83, 84, 90, 92, 93, 96, 100, 101, 103, 106, 107, 113, 115, 117, 118, 119, 122, 124, 125, 126, 129, 131, 132, 134, 135, 140, 141, 147, 148, 155, 160, 161, 163, 164, 166, 169, 172, 173, 174, 175, 178, 181, 185, 186, 187, 188, 196, 201, 202, 204, 206, 208, 209, 210, 211, 217, 219, 220, 221, 225, 226, 231, 232, 234, 235, 236, 237, 238, 239, 240, 248, 252, 253, 256, 257, 258, 264, 265, 266, 268, 272, 273, 275, 276, 277, 278, 279, 281, 282, 284, 287, 288, 289, 290, 292, 296, 297]}\n"
     ]
    }
   ],
   "source": [
    "filename = 'Dataset/wl_300'\n",
    "n_depots, n_customers, depot_capacities, setup_costs, customer_demands, costs = load_data(filename)\n",
    "\n",
    "sa_solution, sa_cost = simulated_annealing(n_depots, n_customers, depot_capacities, setup_costs, customer_demands, costs,\n",
    "                               initial_temp=1000, cooling_rate=0.9, max_iter=30, neighbor_k=3)\n",
    "\n",
    "print(\"Total cost : \",sa_cost)\n",
    "print(\"Assignment : \",sa_solution)"
   ]
  },
  {
   "cell_type": "code",
   "execution_count": 8,
   "id": "b67252e4",
   "metadata": {},
   "outputs": [
    {
     "name": "stdout",
     "output_type": "stream",
     "text": [
      "Total cost :  80761.02428\n",
      "Assignment :  {'assignment': [432, 79, 473, 419, 269, 127, 87, 51, 60, 324, 260, 38, 31, 66, 176, 344, 161, 168, 471, 276, 94, 458, 499, 154, 174, 290, 76, 199, 437, 458, 144, 295, 180, 372, 64, 442, 141, 320, 269, 425, 427, 243, 9, 286, 369, 31, 149, 471, 245, 484, 35, 140, 256, 467, 166, 338, 384, 385, 276, 94, 104, 121, 446, 221, 379, 285, 351, 381, 133, 285, 460, 472, 184, 304, 115, 487, 187, 158, 351, 429, 94, 243, 54, 135, 12, 121, 350, 337, 470, 128, 320, 445, 272, 234, 176, 176, 403, 111, 2, 163, 268, 84, 144, 426, 109, 497, 171, 240, 493, 183, 262, 473, 8, 280, 496, 123, 356, 407, 63, 15, 443, 408, 391, 58, 214, 144, 121, 123, 337, 102, 265, 435, 386, 423, 499, 279, 295, 371, 12, 118, 336, 481, 8, 416, 64, 484, 200, 384, 433, 151, 367, 113, 325, 216, 498, 367, 111, 109, 371, 324, 354, 360, 131, 285, 135, 19, 2, 275, 367, 0, 69, 141, 407, 165, 60, 497, 474, 103, 130, 106, 443, 174, 421, 365, 2, 102, 27, 51, 489, 350, 435, 265, 333, 13, 386, 337, 431, 200, 351, 476, 75, 348, 126, 54, 370, 118, 485, 195, 37, 325, 372, 196, 130, 120, 344, 297, 31, 6, 486, 135, 459, 27, 168, 22, 431, 69, 262, 168, 399, 53, 269, 395, 336, 73, 135, 367, 480, 441, 67, 122, 318, 113, 210, 38, 21, 59, 238, 196, 272, 274, 144, 113, 463, 256, 421, 309, 458, 462, 434, 331, 426, 482, 94, 149, 420, 166, 6, 301, 274, 182, 384, 78, 247, 31, 53, 175, 204, 364, 253, 274, 105, 435, 364, 206, 12, 182, 88, 182, 221, 432, 137, 216, 12, 103, 12, 64, 398, 4, 332, 421, 367, 363, 393, 82, 304, 386, 173, 231, 114, 128, 433, 391, 58, 65, 304, 263, 90, 108, 140, 262, 334, 408, 322, 91, 395, 482, 461, 381, 225, 493, 446, 281, 46, 270, 151, 200, 113, 208, 38, 454, 140, 213, 59, 471, 333, 42, 434, 112, 364, 320, 275, 165, 350, 198, 254, 19, 482, 148, 26, 263, 97, 65, 162, 134, 61, 154, 419, 363, 129, 489, 91, 426, 427, 56, 279, 78, 128, 19, 144, 192, 280, 286, 147, 481, 413, 426, 481, 484, 108, 276, 332, 106, 244, 384, 1, 74, 485, 257, 64, 114, 257, 112, 73, 464, 422, 75, 461, 459, 297, 446, 278, 333, 455, 487, 354, 263, 22, 8, 386, 463, 416, 460, 166, 318, 384, 74, 61, 318, 281, 195, 464, 8, 413, 225, 73, 476, 425, 395, 369, 473, 373, 127, 158, 14, 350, 276, 494, 187, 431, 345, 388, 19, 407, 379, 271, 380, 150, 385, 305, 437, 494, 458, 470, 84, 274, 122, 54, 13, 346, 403, 8, 58, 163, 387, 94, 458, 305, 12, 4, 192, 135, 180, 496, 115, 425, 380, 480, 321, 19, 342, 354, 371, 473, 460, 66, 395, 78, 265, 407, 271], 'open_depots': [0, 1, 2, 4, 6, 8, 9, 12, 13, 14, 15, 19, 21, 22, 26, 27, 31, 35, 37, 38, 42, 46, 51, 53, 54, 56, 58, 59, 60, 61, 63, 64, 65, 66, 67, 69, 73, 74, 75, 76, 78, 79, 82, 84, 87, 88, 90, 91, 94, 97, 102, 103, 104, 105, 106, 108, 109, 111, 112, 113, 114, 115, 118, 120, 121, 122, 123, 126, 127, 128, 129, 130, 131, 133, 134, 135, 137, 140, 141, 144, 147, 148, 149, 150, 151, 154, 158, 161, 162, 163, 165, 166, 168, 171, 173, 174, 175, 176, 180, 182, 183, 184, 187, 192, 195, 196, 198, 199, 200, 204, 206, 208, 210, 213, 214, 216, 221, 225, 231, 234, 238, 240, 243, 244, 245, 247, 253, 254, 256, 257, 260, 262, 263, 265, 268, 269, 270, 271, 272, 274, 275, 276, 278, 279, 280, 281, 285, 286, 290, 295, 297, 301, 304, 305, 309, 318, 320, 321, 322, 324, 325, 331, 332, 333, 334, 336, 337, 338, 342, 344, 345, 346, 348, 350, 351, 354, 356, 360, 363, 364, 365, 367, 369, 370, 371, 372, 373, 379, 380, 381, 384, 385, 386, 387, 388, 391, 393, 395, 398, 399, 403, 407, 408, 413, 416, 419, 420, 421, 422, 423, 425, 426, 427, 429, 431, 432, 433, 434, 435, 437, 441, 442, 443, 445, 446, 454, 455, 458, 459, 460, 461, 462, 463, 464, 467, 470, 471, 472, 473, 474, 476, 480, 481, 482, 484, 485, 486, 487, 489, 493, 494, 496, 497, 498, 499]}\n"
     ]
    }
   ],
   "source": [
    "filename = 'Dataset/wl_500'\n",
    "n_depots, n_customers, depot_capacities, setup_costs, customer_demands, costs = load_data(filename)\n",
    "\n",
    "sa_solution, sa_cost = simulated_annealing(n_depots, n_customers, depot_capacities, setup_costs, customer_demands, costs,\n",
    "                               initial_temp=1000, cooling_rate=0.9, max_iter=30, neighbor_k=3)\n",
    "\n",
    "print(\"Total cost : \",sa_cost)\n",
    "print(\"Assignment : \",sa_solution)"
   ]
  }
 ],
 "metadata": {
  "kernelspec": {
   "display_name": "ML",
   "language": "python",
   "name": "python3"
  },
  "language_info": {
   "codemirror_mode": {
    "name": "ipython",
    "version": 3
   },
   "file_extension": ".py",
   "mimetype": "text/x-python",
   "name": "python",
   "nbconvert_exporter": "python",
   "pygments_lexer": "ipython3",
   "version": "3.12.7"
  }
 },
 "nbformat": 4,
 "nbformat_minor": 5
}
