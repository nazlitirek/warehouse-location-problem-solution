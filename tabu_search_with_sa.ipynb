{
 "cells": [
  {
   "cell_type": "code",
   "execution_count": 6,
   "id": "65c735de",
   "metadata": {},
   "outputs": [],
   "source": [
    "from data_loader import load_data"
   ]
  },
  {
   "cell_type": "code",
   "execution_count": 33,
   "id": "3530bb49",
   "metadata": {},
   "outputs": [],
   "source": [
    "import numpy as np\n",
    "import random\n",
    "import math\n",
    "\n",
    "def swap_move(solution, n_depots, demands, capacities):\n",
    "    neighbor = solution.copy()\n",
    "    n_customers = len(solution)\n",
    "    # Rastgele iki müşteri seç\n",
    "    i, j = random.sample(range(n_customers), 2)\n",
    "    \n",
    "    # İki müşteri arasındaki depo atamalarını değiştir\n",
    "    if capacities[neighbor[j]] >= demands[i] and capacities[neighbor[i]] >= demands[j]:\n",
    "        neighbor[i], neighbor[j] = neighbor[j], neighbor[i]\n",
    "    return neighbor\n",
    "\n",
    "def simulated_annealing(current_solution, n_depots, demands, capacities, setup_costs, costs, max_iterations=500, initial_temperature=100, cooling_rate=0.99):\n",
    "    current_cost = calculate_total_cost(current_solution, setup_costs, costs, demands, capacities)\n",
    "    best_solution = current_solution.copy()\n",
    "    best_cost = current_cost\n",
    "    temperature = initial_temperature\n",
    "    \n",
    "    for iteration in range(max_iterations):\n",
    "        # Yeni bir komşu çözüm oluştur\n",
    "        neighbor = swap_move(current_solution, n_depots, demands, capacities)\n",
    "        neighbor_cost = calculate_total_cost(neighbor, setup_costs, costs, demands, capacities)\n",
    "        \n",
    "        # Simulated Annealing kabul kriteri\n",
    "        if neighbor_cost < current_cost:\n",
    "            current_solution = neighbor\n",
    "            current_cost = neighbor_cost\n",
    "        else:\n",
    "            # Kötü çözüm de olsa, belirli bir olasılıkla kabul et\n",
    "            probability = math.exp((current_cost - neighbor_cost) / temperature)\n",
    "            if random.random() < probability:\n",
    "                current_solution = neighbor\n",
    "                current_cost = neighbor_cost\n",
    "        \n",
    "        # Eğer daha iyi bir çözüm bulunduysa, kaydet\n",
    "        if current_cost < best_cost:\n",
    "            best_solution = current_solution.copy()\n",
    "            best_cost = current_cost\n",
    "        \n",
    "        # Sıcaklık düşürülür\n",
    "        temperature *= cooling_rate\n",
    "\n",
    "    return best_solution, best_cost\n",
    "\n",
    "def tabu_search_with_sa(n_depots, n_customers, capacities, setup_costs, demands, costs, max_iterations=500, tabu_tenure=20, patience=50):\n",
    "    # İlk çözüm rastgele alınıyor\n",
    "    current_solution = random_initial_solution(n_depots, n_customers, capacities, demands)\n",
    "    best_solution = current_solution.copy()\n",
    "    best_cost = calculate_total_cost(best_solution, setup_costs, costs, demands, capacities)\n",
    "    tabu_list = []\n",
    "    no_improve = 0\n",
    "    \n",
    "    for it in range(max_iterations):\n",
    "        # Simulated Annealing ile local search yapalım\n",
    "        current_solution, current_cost = simulated_annealing(current_solution, n_depots, demands, capacities, setup_costs, costs)\n",
    "        \n",
    "        # Aspiration Criteria\n",
    "        move = tuple(current_solution)\n",
    "        if move in tabu_list:\n",
    "            if current_cost < best_cost:\n",
    "                print(f\"✅ Aspiration accepted a tabu move at iteration {it}\")\n",
    "                best_solution = current_solution.copy()\n",
    "                best_cost = current_cost\n",
    "                no_improve = 0\n",
    "                continue\n",
    "            else:\n",
    "                continue\n",
    "        \n",
    "        # Yeni çözüm bulunduğunda, tabu listesine ekle\n",
    "        if current_cost < best_cost:\n",
    "            best_cost = current_cost\n",
    "            best_solution = current_solution.copy()\n",
    "            no_improve = 0\n",
    "        else:\n",
    "            no_improve += 1\n",
    "\n",
    "        # Tabu listesine ekle ve maksimum uzunluğu kontrol et\n",
    "        tabu_list.append(move)\n",
    "        if len(tabu_list) > tabu_tenure:\n",
    "            tabu_list.pop(0)\n",
    "\n",
    "        if no_improve >= patience:\n",
    "            print(f\"🛑 Early stopping at iteration {it}\")\n",
    "            break\n",
    "\n",
    "    return best_solution, best_cost\n"
   ]
  },
  {
   "cell_type": "code",
   "execution_count": 34,
   "id": "f8712bad",
   "metadata": {},
   "outputs": [
    {
     "name": "stdout",
     "output_type": "stream",
     "text": [
      "Total cost: 890314.975\n",
      "Solution: [7, 13, 0, 17, 1, 0, 1, 2, 16, 1, 3, 4, 5, 17, 6, 7, 3, 5, 3, 13, 2, 9, 3, 0, 11, 5, 12, 10, 13, 14, 15, 13, 15, 16, 19, 11, 17, 18, 21, 18, 19, 20, 7, 9, 12, 21, 20, 15, 24, 19]\n"
     ]
    }
   ],
   "source": [
    "filename = 'Dataset/wl_25'\n",
    "n_depots, n_customers, depot_capacities, setup_costs, customer_demands, costs = load_data(filename)\n",
    "\n",
    "solution, cost = tabu_search_with_sa(n_depots, n_customers, depot_capacities, setup_costs, customer_demands, costs)\n",
    "print(\"Total cost:\", cost)\n",
    "print(\"Solution:\", solution)\n"
   ]
  },
  {
   "cell_type": "code",
   "execution_count": 35,
   "id": "1553a0c1",
   "metadata": {},
   "outputs": [
    {
     "name": "stdout",
     "output_type": "stream",
     "text": [
      "Total cost: 1103167.3875\n",
      "Solution: [0, 15, 25, 3, 15, 25, 36, 3, 42, 9, 10, 27, 37, 39, 34, 15, 24, 17, 48, 19, 39, 32, 10, 29, 24, 25, 47, 27, 28, 29, 30, 31, 30, 33, 34, 35, 36, 37, 42, 39, 27, 41, 42, 30, 44, 46, 42, 44, 48, 49]\n"
     ]
    }
   ],
   "source": [
    "filename = 'Dataset/wl_50'\n",
    "n_depots, n_customers, depot_capacities, setup_costs, customer_demands, costs = load_data(filename)\n",
    "\n",
    "solution, cost = tabu_search_with_sa(n_depots, n_customers, depot_capacities, setup_costs, customer_demands, costs)\n",
    "print(\"Total cost:\", cost)\n",
    "print(\"Solution:\", solution)\n"
   ]
  },
  {
   "cell_type": "code",
   "execution_count": 36,
   "id": "e510df0c",
   "metadata": {},
   "outputs": [
    {
     "name": "stdout",
     "output_type": "stream",
     "text": [
      "Total cost: 46175.70395\n",
      "Solution: [193, 124, 46, 154, 87, 91, 78, 54, 170, 88, 109, 189, 125, 25, 114, 21, 158, 41, 29, 100, 156, 99, 160, 51, 128, 181, 86, 180, 105, 57, 34, 118, 18, 6, 95, 182, 102, 29, 33, 142, 15, 25, 73, 14, 35, 158, 96, 30, 145, 152, 184, 81, 31, 113, 108, 48, 16, 106, 82, 133, 15, 49, 2, 185, 58, 20, 88, 56, 100, 193, 94, 48, 130, 58, 152, 71, 165, 116, 199, 10, 100, 3, 170, 34, 53, 65, 34, 116, 45, 15, 190, 13, 121, 56, 132, 177, 4, 178, 121, 53, 38, 160, 97, 112, 93, 4, 75, 107, 187, 178, 183, 44, 198, 132, 83, 168, 41, 25, 77, 7, 177, 188, 163, 77, 92, 138, 30, 65, 135, 170, 179, 181, 162, 108, 112, 190, 141, 113, 173, 40, 199, 91, 105, 151, 143, 65, 82, 155, 182, 192, 179, 4, 176, 39, 68, 133, 176, 59, 94, 189, 12, 53, 93, 62, 112, 134, 187, 106, 149, 145, 196, 75, 185, 26, 80, 71, 38, 99, 96, 21, 158, 79, 5, 179, 177, 44, 142, 80, 3, 185, 174, 78, 42, 40, 146, 38, 141, 152, 14, 130]\n"
     ]
    }
   ],
   "source": [
    "filename = 'Dataset/wl_200'\n",
    "n_depots, n_customers, depot_capacities, setup_costs, customer_demands, costs = load_data(filename)\n",
    "\n",
    "solution, cost = tabu_search_with_sa(n_depots, n_customers, depot_capacities, setup_costs, customer_demands, costs)\n",
    "print(\"Total cost:\", cost)\n",
    "print(\"Solution:\", solution)\n"
   ]
  },
  {
   "cell_type": "code",
   "execution_count": 37,
   "id": "f06714ee",
   "metadata": {},
   "outputs": [
    {
     "name": "stdout",
     "output_type": "stream",
     "text": [
      "Total cost: 108084.3688\n",
      "Solution: [281, 182, 11, 252, 50, 110, 48, 8, 214, 82, 28, 38, 178, 263, 19, 113, 179, 0, 12, 278, 259, 77, 149, 122, 101, 120, 185, 120, 134, 127, 262, 30, 275, 285, 263, 287, 266, 223, 20, 105, 239, 111, 15, 146, 281, 215, 109, 48, 158, 68, 280, 85, 281, 259, 81, 166, 10, 4, 79, 294, 224, 114, 30, 198, 285, 152, 63, 86, 273, 172, 254, 103, 256, 244, 25, 171, 6, 179, 298, 122, 31, 197, 169, 34, 180, 120, 168, 19, 291, 110, 127, 93, 171, 173, 140, 124, 245, 54, 244, 299, 273, 140, 291, 210, 39, 4, 271, 239, 235, 148, 20, 182, 153, 29, 45, 212, 85, 77, 102, 14, 18, 282, 204, 29, 179, 233, 33, 277, 246, 30, 160, 24, 258, 221, 151, 271, 109, 29, 269, 146, 122, 240, 134, 277, 118, 290, 218, 22, 121, 214, 295, 119, 74, 194, 116, 77, 83, 113, 111, 295, 92, 281, 118, 286, 27, 183, 265, 171, 206, 52, 172, 169, 287, 163, 187, 110, 108, 152, 145, 203, 29, 292, 201, 2, 178, 201, 206, 284, 52, 101, 137, 232, 66, 211, 233, 101, 214, 268, 101, 183, 242, 137, 220, 7, 68, 182, 266, 1, 156, 4, 148, 162, 202, 178, 248, 22, 157, 156, 80, 126, 271, 219, 228, 84, 104, 46, 156, 136, 293, 28, 18, 147, 220, 243, 216, 20, 279, 86, 47, 287, 232, 206, 242, 101, 84, 246, 203, 229, 109, 147, 137, 62, 257, 64, 125, 63, 192, 173, 77, 23, 13, 26, 145, 233, 216, 7, 87, 21, 119, 276, 44, 298, 188, 51, 9, 237, 255, 225, 210, 245, 171, 85, 233, 198, 31, 36, 107, 82, 99, 80, 90, 121, 298, 68, 215, 74, 237, 94, 44, 115]\n"
     ]
    }
   ],
   "source": [
    "filename = 'Dataset/wl_300'\n",
    "n_depots, n_customers, depot_capacities, setup_costs, customer_demands, costs = load_data(filename)\n",
    "\n",
    "solution, cost = tabu_search_with_sa(n_depots, n_customers, depot_capacities, setup_costs, customer_demands, costs)\n",
    "print(\"Total cost:\", cost)\n",
    "print(\"Solution:\", solution)\n",
    "\n"
   ]
  },
  {
   "cell_type": "code",
   "execution_count": 38,
   "id": "b67252e4",
   "metadata": {},
   "outputs": [
    {
     "name": "stdout",
     "output_type": "stream",
     "text": [
      "Total cost: 104267.07342\n",
      "Solution: [193, 348, 71, 375, 102, 289, 131, 136, 102, 168, 440, 362, 455, 31, 322, 379, 265, 257, 439, 300, 329, 163, 278, 277, 330, 100, 388, 239, 37, 314, 318, 255, 462, 266, 242, 389, 12, 469, 442, 250, 455, 201, 189, 414, 292, 426, 437, 233, 311, 136, 397, 227, 386, 288, 413, 115, 56, 458, 483, 469, 444, 400, 216, 327, 98, 428, 282, 371, 104, 407, 420, 451, 208, 238, 403, 69, 423, 294, 140, 52, 439, 95, 187, 437, 442, 20, 40, 312, 458, 444, 482, 70, 92, 262, 81, 242, 83, 97, 272, 121, 432, 83, 283, 117, 300, 419, 80, 442, 430, 490, 130, 89, 398, 124, 236, 74, 45, 202, 299, 463, 402, 135, 328, 7, 97, 64, 182, 103, 150, 81, 237, 464, 156, 13, 24, 416, 197, 237, 64, 280, 13, 366, 42, 246, 94, 369, 136, 308, 491, 209, 446, 333, 270, 98, 319, 184, 190, 205, 69, 267, 364, 157, 48, 441, 194, 49, 451, 189, 460, 16, 320, 478, 46, 397, 103, 184, 485, 111, 244, 102, 68, 93, 273, 473, 449, 114, 134, 396, 194, 495, 42, 156, 29, 41, 1, 292, 296, 262, 89, 406, 419, 217, 264, 54, 296, 456, 217, 285, 20, 157, 349, 471, 199, 52, 78, 31, 473, 86, 63, 87, 314, 267, 171, 222, 328, 253, 404, 426, 427, 157, 462, 61, 198, 362, 266, 415, 305, 57, 382, 32, 322, 261, 236, 211, 226, 135, 152, 359, 107, 42, 473, 184, 185, 499, 66, 48, 338, 110, 432, 422, 358, 472, 443, 480, 113, 293, 90, 149, 166, 235, 263, 468, 411, 414, 264, 460, 382, 193, 248, 259, 464, 117, 457, 34, 123, 329, 125, 391, 285, 150, 80, 158, 138, 371, 253, 68, 56, 164, 388, 185, 357, 87, 322, 439, 414, 294, 214, 234, 383, 34, 442, 338, 388, 420, 174, 119, 69, 292, 425, 63, 231, 116, 98, 299, 213, 418, 77, 70, 373, 29, 76, 70, 155, 239, 488, 93, 72, 369, 334, 315, 343, 459, 59, 337, 33, 116, 202, 345, 299, 347, 56, 251, 457, 369, 450, 268, 370, 350, 159, 498, 309, 107, 91, 498, 260, 192, 101, 250, 300, 256, 475, 60, 322, 334, 223, 50, 66, 214, 291, 383, 404, 447, 213, 436, 377, 391, 162, 171, 489, 117, 110, 44, 387, 93, 375, 40, 49, 407, 30, 320, 248, 232, 212, 81, 123, 328, 297, 24, 312, 383, 332, 424, 239, 424, 256, 409, 98, 140, 447, 318, 92, 86, 326, 306, 488, 13, 118, 378, 49, 428, 291, 360, 215, 133, 118, 334, 438, 291, 458, 161, 262, 47, 442, 314, 146, 356, 90, 158, 44, 248, 497, 307, 273, 77, 483, 495, 60, 272, 213, 248, 230, 450, 447, 442, 332, 111, 479, 165, 118, 282, 162, 32, 7, 398, 268, 385, 87, 67, 73, 39, 12, 230, 90, 188, 391, 113, 52, 84, 54, 335, 299, 410, 426, 332, 123, 116, 492, 482, 307, 324]\n"
     ]
    }
   ],
   "source": [
    "filename = 'Dataset/wl_500'\n",
    "n_depots, n_customers, depot_capacities, setup_costs, customer_demands, costs = load_data(filename)\n",
    "\n",
    "solution, cost = tabu_search_with_sa(n_depots, n_customers, depot_capacities, setup_costs, customer_demands, costs)\n",
    "print(\"Total cost:\", cost)\n",
    "print(\"Solution:\", solution)\n"
   ]
  }
 ],
 "metadata": {
  "kernelspec": {
   "display_name": "ML",
   "language": "python",
   "name": "python3"
  },
  "language_info": {
   "codemirror_mode": {
    "name": "ipython",
    "version": 3
   },
   "file_extension": ".py",
   "mimetype": "text/x-python",
   "name": "python",
   "nbconvert_exporter": "python",
   "pygments_lexer": "ipython3",
   "version": "3.12.7"
  }
 },
 "nbformat": 4,
 "nbformat_minor": 5
}
