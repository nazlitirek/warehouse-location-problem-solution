{
 "cells": [
  {
   "cell_type": "code",
   "execution_count": 3,
   "id": "65c735de",
   "metadata": {},
   "outputs": [],
   "source": [
    "from data_loader import load_data"
   ]
  },
  {
   "cell_type": "markdown",
   "id": "8de5b409",
   "metadata": {},
   "source": [
    "greedy → simulated annealing → tabu search\n",
    "\n",
    "This solution combines three optimization techniques: Greedy, Simulated Annealing (SA), and Tabu Search. First, a quick initial solution is generated using a greedy approach, which assigns each customer to the nearest depot that can accommodate their demand. Next, Simulated Annealing is applied to iteratively improve the solution by exploring neighboring solutions with a probability of accepting worse solutions, which decreases over time to avoid local minima. Finally, Tabu Search further refines the solution by maintaining a tabu list that prevents revisiting recently explored solutions, encouraging exploration of new, potentially better solutions. Together, these techniques balance exploration and exploitation, leading to an optimized solution for the facility location problem."
   ]
  },
  {
   "cell_type": "code",
   "execution_count": 11,
   "id": "3530bb49",
   "metadata": {},
   "outputs": [],
   "source": [
    "import random\n",
    "import numpy as np\n",
    "\n",
    "def total_cost(solution, setup_costs, costs):\n",
    "    depot_cost = sum(setup_costs[d] for d in solution['open_depots'])\n",
    "    transport_cost = sum(costs[i][solution['assignment'][i]] for i in range(len(solution['assignment'])))\n",
    "    return depot_cost + transport_cost\n",
    "\n",
    "def delta_cost(old_solution, new_solution, setup_costs, costs):\n",
    "    old_open = set(old_solution['open_depots'])\n",
    "    new_open = set(new_solution['open_depots'])\n",
    "    depot_diff = sum(setup_costs[d] for d in new_open - old_open) - sum(setup_costs[d] for d in old_open - new_open)\n",
    "    assignment_old = old_solution['assignment']\n",
    "    assignment_new = new_solution['assignment']\n",
    "    transport_diff = sum(\n",
    "        costs[i][assignment_new[i]] - costs[i][assignment_old[i]]\n",
    "        for i in range(len(assignment_old)) if assignment_new[i] != assignment_old[i]\n",
    "    )\n",
    "    return depot_diff + transport_diff\n",
    "\n",
    "def is_feasible(assignment, depot_capacities, customer_demands, n_depots):\n",
    "    depot_loads = [0] * n_depots\n",
    "    for i, d in enumerate(assignment):\n",
    "        depot_loads[d] += customer_demands[i]\n",
    "    return all(depot_loads[i] <= depot_capacities[i] for i in range(n_depots))\n",
    "\n",
    "def initial_solution(n_depots, n_customers, depot_capacities, setup_costs, customer_demands, costs):\n",
    "    assignment = [-1] * n_customers\n",
    "    remaining_capacity = depot_capacities[:]\n",
    "    for i in range(n_customers):\n",
    "        sorted_depots = sorted(range(n_depots), key=lambda d: costs[i][d])\n",
    "        for d in sorted_depots:\n",
    "            if remaining_capacity[d] >= customer_demands[i]:\n",
    "                assignment[i] = d\n",
    "                remaining_capacity[d] -= customer_demands[i]\n",
    "                break\n",
    "    open_depots = list(set(assignment))\n",
    "    return {'assignment': assignment, 'open_depots': open_depots}\n",
    "\n",
    "def get_neighbors_limited(solution, n_depots, depot_capacities, customer_demands, k=3):\n",
    "    neighbors = []\n",
    "    assignment = solution['assignment']\n",
    "    for _ in range(k):\n",
    "        i = random.randint(0, len(assignment)-1)\n",
    "        current_d = assignment[i]\n",
    "        for d in range(n_depots):\n",
    "            if d != current_d:\n",
    "                new_assignment = assignment[:]\n",
    "                new_assignment[i] = d\n",
    "                if is_feasible(new_assignment, depot_capacities, customer_demands, n_depots):\n",
    "                    open_depots = list(set(new_assignment))\n",
    "                    neighbors.append({'assignment': new_assignment, 'open_depots': open_depots})\n",
    "    return neighbors\n",
    "\n",
    "def simulated_annealing(n_depots, n_customers, depot_capacities, setup_costs, customer_demands, costs,\n",
    "                        initial_temp=1000, cooling_rate=0.95, max_iter=100, neighbor_k=5):\n",
    "    current = initial_solution(n_depots, n_customers, depot_capacities, setup_costs, customer_demands, costs)\n",
    "    best = current\n",
    "    temp = initial_temp\n",
    "    for _ in range(max_iter):\n",
    "        neighbors = get_neighbors_limited(current, n_depots, depot_capacities, customer_demands, k=neighbor_k)\n",
    "        if not neighbors:\n",
    "            break\n",
    "        candidate = random.choice(neighbors)\n",
    "        cost_diff = total_cost(candidate, setup_costs, costs) - total_cost(current, setup_costs, costs)\n",
    "        if cost_diff < 0 or random.random() < np.exp(-cost_diff / temp):\n",
    "            current = candidate\n",
    "            if total_cost(current, setup_costs, costs) < total_cost(best, setup_costs, costs):\n",
    "                best = current\n",
    "        temp *= cooling_rate\n",
    "    return best\n",
    "\n",
    "def tabu_search_optimized(initial_sol, n_depots, depot_capacities, customer_demands,\n",
    "                          setup_costs, costs, max_iter=50, tabu_tenure=5, neighbor_k=10, runs=3):\n",
    "    best_global = None\n",
    "    for _ in range(runs):\n",
    "        current = initial_sol\n",
    "        best = current\n",
    "        best_cost = total_cost(best, setup_costs, costs)\n",
    "        tabu_list = []\n",
    "        for _ in range(max_iter):\n",
    "            neighbors = get_neighbors_limited(current, n_depots, depot_capacities, customer_demands, k=neighbor_k)\n",
    "            neighbors = [n for n in neighbors if n['assignment'] not in tabu_list]\n",
    "            if not neighbors:\n",
    "                break\n",
    "            candidate = min(neighbors, key=lambda s: delta_cost(current, s, setup_costs, costs))\n",
    "            cost_candidate = total_cost(candidate, setup_costs, costs)\n",
    "            if cost_candidate < best_cost:\n",
    "                best = candidate\n",
    "                best_cost = cost_candidate\n",
    "            tabu_list.append(candidate['assignment'])\n",
    "            if len(tabu_list) > tabu_tenure:\n",
    "                tabu_list.pop(0)\n",
    "            current = candidate\n",
    "        if best_global is None or total_cost(best, setup_costs, costs) < total_cost(best_global, setup_costs, costs):\n",
    "            best_global = best\n",
    "    return best_global\n"
   ]
  },
  {
   "cell_type": "code",
   "execution_count": 14,
   "id": "f8712bad",
   "metadata": {},
   "outputs": [
    {
     "name": "stdout",
     "output_type": "stream",
     "text": [
      "Total cost :  813092.9875\n",
      "Open depots :  [0, 1, 3, 4, 5, 6, 7, 8, 10, 11, 12, 15, 16, 19, 20, 22, 23, 24]\n",
      "Assignment :  [7, 6, 0, 24, 20, 0, 1, 5, 20, 7, 3, 4, 5, 0, 6, 7, 19, 8, 20, 6, 20, 15, 4, 0, 11, 4, 12, 4, 19, 0, 15, 10, 15, 16, 11, 11, 24, 5, 23, 24, 19, 20, 7, 6, 22, 23, 23, 6, 24, 11]\n"
     ]
    }
   ],
   "source": [
    "filename = 'Dataset/wl_25'\n",
    "n_depots, n_customers, depot_capacities, setup_costs, customer_demands, costs = load_data(filename)\n",
    "\n",
    "greedy_init = initial_solution(n_depots, n_customers, depot_capacities, setup_costs, customer_demands, costs)\n",
    "sa_result = simulated_annealing(n_depots, n_customers, depot_capacities, setup_costs, customer_demands, costs,\n",
    "                               initial_temp=1000, cooling_rate=0.9, max_iter=30, neighbor_k=3)\n",
    "final_solution = tabu_search_optimized(sa_result, n_depots, depot_capacities, customer_demands,\n",
    "                                       setup_costs, costs, max_iter=40, tabu_tenure=4, neighbor_k=3, runs=2)\n",
    "print(\"Total cost : \",total_cost(final_solution, setup_costs, costs))\n",
    "print(\"Open depots : \",final_solution['open_depots'])\n",
    "print(\"Assignment : \",final_solution['assignment'])"
   ]
  },
  {
   "cell_type": "code",
   "execution_count": 15,
   "id": "1553a0c1",
   "metadata": {},
   "outputs": [
    {
     "name": "stdout",
     "output_type": "stream",
     "text": [
      "Total cost :  963804.15\n",
      "Open depots :  [4, 5, 10, 11, 12, 13, 18, 19, 21, 22, 25, 26, 27, 29, 33, 35, 36, 37, 40, 41, 44, 45]\n",
      "Assignment :  [19, 40, 5, 36, 4, 5, 36, 12, 4, 35, 10, 11, 12, 25, 21, 35, 10, 22, 18, 19, 41, 21, 22, 13, 40, 25, 26, 27, 27, 29, 5, 27, 5, 33, 40, 35, 36, 37, 45, 37, 40, 41, 4, 21, 44, 45, 4, 19, 37, 40]\n"
     ]
    }
   ],
   "source": [
    "filename = 'Dataset/wl_50'\n",
    "n_depots, n_customers, depot_capacities, setup_costs, customer_demands, costs = load_data(filename)\n",
    "\n",
    "greedy_init = initial_solution(n_depots, n_customers, depot_capacities, setup_costs, customer_demands, costs)\n",
    "sa_result = simulated_annealing(n_depots, n_customers, depot_capacities, setup_costs, customer_demands, costs,\n",
    "                               initial_temp=1000, cooling_rate=0.9, max_iter=30, neighbor_k=3)\n",
    "final_solution = tabu_search_optimized(sa_result, n_depots, depot_capacities, customer_demands,\n",
    "                                       setup_costs, costs, max_iter=40, tabu_tenure=4, neighbor_k=3, runs=2)\n",
    "print(\"Total cost : \",total_cost(final_solution, setup_costs, costs))\n",
    "print(\"Open depots : \",final_solution['open_depots'])\n",
    "print(\"Assignment : \",final_solution['assignment'])"
   ]
  },
  {
   "cell_type": "code",
   "execution_count": 16,
   "id": "e510df0c",
   "metadata": {},
   "outputs": [
    {
     "name": "stdout",
     "output_type": "stream",
     "text": [
      "Total cost :  36262.55734000001\n",
      "Open depots :  [0, 2, 3, 4, 5, 8, 10, 12, 13, 14, 19, 20, 21, 24, 25, 28, 31, 32, 34, 36, 37, 38, 43, 44, 45, 47, 48, 49, 51, 52, 53, 61, 63, 64, 66, 70, 71, 72, 75, 79, 80, 81, 83, 84, 85, 87, 92, 93, 95, 100, 102, 106, 107, 109, 110, 111, 113, 119, 121, 125, 126, 127, 128, 129, 130, 133, 136, 137, 138, 139, 142, 143, 144, 147, 148, 149, 150, 154, 157, 158, 162, 165, 166, 167, 168, 169, 170, 173, 176, 178, 183, 184, 185, 188, 194, 196, 197, 198]\n",
      "Assignment :  [197, 176, 84, 125, 173, 53, 185, 93, 113, 3, 142, 198, 111, 130, 162, 47, 66, 21, 148, 2, 197, 137, 71, 142, 32, 48, 44, 95, 106, 34, 184, 178, 48, 93, 52, 102, 85, 20, 70, 10, 79, 149, 194, 147, 166, 14, 19, 63, 133, 126, 37, 125, 158, 32, 183, 129, 13, 106, 51, 53, 154, 162, 102, 53, 85, 188, 165, 121, 70, 38, 166, 49, 87, 64, 147, 25, 144, 5, 20, 81, 198, 138, 14, 178, 53, 61, 109, 24, 150, 2, 45, 24, 130, 184, 128, 102, 169, 176, 12, 121, 34, 165, 38, 168, 53, 25, 8, 13, 198, 21, 93, 49, 47, 95, 31, 143, 36, 66, 138, 66, 196, 52, 61, 92, 24, 126, 85, 28, 34, 107, 13, 84, 167, 5, 169, 43, 75, 136, 184, 83, 168, 106, 21, 176, 70, 45, 0, 110, 71, 126, 12, 113, 100, 0, 170, 154, 130, 12, 37, 3, 32, 80, 119, 43, 133, 53, 12, 84, 110, 142, 72, 109, 144, 70, 157, 127, 149, 143, 129, 21, 28, 66, 157, 3, 149, 167, 139, 198, 185, 79, 4, 49, 143, 19, 111, 71, 107, 137, 24, 13]\n"
     ]
    }
   ],
   "source": [
    "filename = 'Dataset/wl_200'\n",
    "n_depots, n_customers, depot_capacities, setup_costs, customer_demands, costs = load_data(filename)\n",
    "\n",
    "greedy_init = initial_solution(n_depots, n_customers, depot_capacities, setup_costs, customer_demands, costs)\n",
    "sa_result = simulated_annealing(n_depots, n_customers, depot_capacities, setup_costs, customer_demands, costs,\n",
    "                               initial_temp=1000, cooling_rate=0.9, max_iter=30, neighbor_k=3)\n",
    "final_solution = tabu_search_optimized(sa_result, n_depots, depot_capacities, customer_demands,\n",
    "                                       setup_costs, costs, max_iter=40, tabu_tenure=4, neighbor_k=3, runs=2)\n",
    "print(\"Total cost : \",total_cost(final_solution, setup_costs, costs))\n",
    "print(\"Open depots : \",final_solution['open_depots'])\n",
    "print(\"Assignment : \",final_solution['assignment'])"
   ]
  },
  {
   "cell_type": "code",
   "execution_count": 17,
   "id": "f06714ee",
   "metadata": {},
   "outputs": [
    {
     "name": "stdout",
     "output_type": "stream",
     "text": [
      "Total cost :  87000.74234\n",
      "Open depots :  [0, 1, 2, 3, 8, 11, 12, 13, 18, 19, 20, 22, 23, 24, 26, 27, 28, 30, 31, 32, 34, 37, 38, 40, 42, 45, 46, 47, 48, 49, 51, 52, 53, 54, 56, 58, 59, 61, 62, 65, 69, 74, 77, 82, 83, 84, 92, 93, 96, 97, 100, 101, 102, 103, 106, 107, 110, 113, 115, 117, 118, 119, 121, 122, 124, 125, 126, 129, 132, 134, 135, 138, 140, 141, 143, 146, 147, 148, 149, 156, 160, 161, 163, 164, 166, 169, 172, 173, 178, 181, 184, 185, 186, 187, 188, 191, 199, 200, 204, 206, 209, 210, 211, 212, 215, 217, 219, 220, 221, 223, 225, 226, 231, 232, 234, 235, 236, 237, 238, 239, 240, 241, 244, 248, 251, 252, 253, 256, 258, 264, 265, 266, 268, 272, 273, 275, 276, 277, 278, 279, 281, 282, 284, 286, 287, 288, 289, 290, 292, 294, 296, 297, 299]\n",
      "Assignment :  [258, 53, 30, 256, 125, 135, 225, 275, 160, 100, 221, 275, 240, 235, 156, 278, 161, 13, 200, 118, 238, 268, 138, 226, 103, 169, 149, 147, 268, 45, 220, 51, 236, 172, 237, 200, 1, 132, 284, 212, 22, 37, 289, 12, 219, 32, 96, 48, 83, 11, 74, 69, 273, 77, 187, 102, 26, 264, 59, 290, 132, 122, 28, 34, 181, 237, 92, 126, 178, 219, 140, 253, 62, 204, 299, 148, 42, 56, 234, 58, 125, 297, 22, 37, 12, 252, 268, 140, 96, 12, 184, 27, 217, 101, 296, 28, 258, 69, 30, 102, 141, 100, 166, 219, 181, 164, 69, 286, 282, 19, 266, 106, 223, 277, 129, 287, 82, 18, 211, 84, 93, 163, 23, 172, 240, 296, 296, 143, 294, 103, 277, 264, 221, 113, 297, 276, 292, 187, 281, 2, 206, 278, 42, 20, 187, 172, 19, 122, 134, 117, 46, 24, 146, 209, 93, 186, 13, 206, 103, 106, 210, 172, 135, 19, 119, 11, 27, 232, 97, 178, 253, 103, 2, 12, 268, 234, 164, 140, 140, 204, 0, 204, 219, 264, 288, 122, 188, 275, 2, 113, 52, 238, 268, 61, 210, 46, 54, 288, 22, 241, 172, 96, 279, 38, 191, 11, 140, 272, 24, 100, 13, 69, 232, 188, 40, 181, 292, 52, 134, 100, 8, 147, 49, 278, 22, 18, 265, 199, 119, 20, 141, 125, 252, 3, 134, 281, 115, 273, 272, 100, 215, 225, 220, 83, 217, 217, 110, 126, 286, 59, 0, 1, 173, 51, 284, 107, 115, 244, 0, 185, 234, 235, 210, 47, 231, 84, 226, 49, 278, 221, 248, 278, 237, 272, 231, 239, 47, 65, 251, 100, 204, 211, 59, 279, 27, 124, 121, 31, 217, 173, 161, 272, 53, 187, 106, 148, 289, 232, 54, 160]\n"
     ]
    }
   ],
   "source": [
    "filename = 'Dataset/wl_300'\n",
    "n_depots, n_customers, depot_capacities, setup_costs, customer_demands, costs = load_data(filename)\n",
    "\n",
    "greedy_init = initial_solution(n_depots, n_customers, depot_capacities, setup_costs, customer_demands, costs)\n",
    "sa_result = simulated_annealing(n_depots, n_customers, depot_capacities, setup_costs, customer_demands, costs,\n",
    "                               initial_temp=1000, cooling_rate=0.9, max_iter=30, neighbor_k=3)\n",
    "final_solution = tabu_search_optimized(sa_result, n_depots, depot_capacities, customer_demands,\n",
    "                                       setup_costs, costs, max_iter=40, tabu_tenure=4, neighbor_k=3, runs=2)\n",
    "print(\"Total cost : \",total_cost(final_solution, setup_costs, costs))\n",
    "print(\"Open depots : \",final_solution['open_depots'])\n",
    "print(\"Assignment : \",final_solution['assignment'])"
   ]
  },
  {
   "cell_type": "code",
   "execution_count": 18,
   "id": "b67252e4",
   "metadata": {},
   "outputs": [
    {
     "name": "stdout",
     "output_type": "stream",
     "text": [
      "Total cost :  88992.01753\n",
      "Open depots :  [0, 2, 4, 6, 7, 8, 9, 12, 13, 14, 17, 19, 21, 22, 23, 25, 26, 27, 29, 31, 33, 37, 38, 51, 52, 53, 54, 56, 58, 59, 60, 64, 65, 66, 67, 69, 72, 73, 74, 75, 76, 78, 79, 82, 84, 87, 88, 90, 91, 92, 94, 97, 98, 102, 103, 104, 105, 106, 108, 109, 110, 111, 112, 113, 114, 115, 118, 120, 121, 122, 123, 126, 127, 128, 129, 130, 131, 133, 134, 135, 137, 138, 140, 141, 144, 147, 148, 149, 150, 154, 158, 161, 162, 163, 164, 165, 166, 168, 171, 173, 174, 175, 176, 180, 182, 183, 184, 185, 186, 187, 192, 195, 196, 198, 199, 202, 206, 208, 210, 213, 215, 216, 217, 220, 221, 225, 231, 244, 247, 248, 251, 252, 253, 256, 257, 258, 260, 261, 262, 263, 265, 266, 268, 269, 270, 271, 272, 273, 274, 275, 276, 277, 278, 279, 280, 281, 285, 286, 290, 293, 297, 304, 305, 308, 309, 312, 318, 319, 320, 321, 322, 324, 325, 330, 331, 332, 333, 334, 335, 336, 337, 338, 341, 342, 344, 345, 348, 350, 351, 354, 355, 356, 359, 360, 363, 364, 365, 367, 368, 369, 370, 371, 372, 375, 379, 380, 381, 384, 385, 386, 387, 391, 392, 393, 395, 397, 398, 402, 403, 407, 408, 409, 416, 419, 420, 421, 422, 423, 425, 426, 427, 429, 431, 432, 433, 434, 435, 437, 443, 446, 454, 455, 457, 458, 459, 460, 461, 462, 463, 464, 467, 470, 471, 472, 473, 475, 476, 479, 480, 481, 482, 484, 485, 486, 487, 489, 493, 494, 496, 497, 499]\n",
      "Assignment :  [183, 79, 473, 419, 59, 355, 87, 51, 60, 324, 260, 38, 31, 66, 176, 280, 161, 168, 471, 276, 94, 458, 499, 154, 29, 290, 76, 199, 437, 458, 144, 392, 475, 372, 64, 344, 141, 320, 269, 425, 427, 464, 9, 286, 369, 98, 149, 471, 58, 484, 180, 140, 256, 467, 166, 338, 384, 385, 276, 94, 104, 121, 446, 221, 379, 285, 351, 381, 133, 330, 460, 472, 184, 304, 251, 92, 187, 261, 341, 429, 94, 72, 54, 135, 217, 121, 350, 337, 470, 128, 320, 263, 272, 162, 176, 176, 403, 111, 215, 163, 268, 84, 144, 426, 109, 497, 171, 305, 493, 183, 409, 473, 8, 268, 110, 123, 356, 407, 320, 325, 443, 408, 391, 58, 221, 144, 121, 123, 337, 102, 265, 435, 386, 423, 499, 279, 318, 17, 397, 118, 336, 481, 8, 416, 64, 484, 290, 33, 433, 164, 367, 293, 325, 216, 202, 367, 111, 109, 371, 324, 354, 360, 131, 285, 135, 19, 2, 275, 367, 0, 69, 141, 129, 165, 60, 497, 76, 103, 130, 106, 443, 174, 266, 365, 252, 102, 27, 51, 489, 350, 435, 265, 333, 13, 386, 337, 431, 375, 351, 476, 75, 348, 126, 54, 370, 118, 485, 195, 37, 325, 372, 135, 335, 120, 344, 297, 31, 6, 486, 135, 459, 27, 479, 22, 431, 308, 262, 392, 350, 53, 269, 395, 336, 73, 135, 367, 480, 131, 67, 457, 318, 113, 210, 38, 21, 59, 102, 196, 272, 274, 144, 113, 463, 256, 421, 309, 458, 462, 434, 331, 426, 482, 94, 149, 420, 166, 6, 158, 274, 182, 384, 78, 247, 31, 53, 175, 321, 364, 253, 274, 105, 435, 202, 206, 12, 182, 88, 359, 221, 432, 137, 216, 12, 103, 12, 64, 398, 4, 332, 248, 367, 363, 393, 82, 277, 386, 173, 231, 273, 128, 433, 266, 58, 65, 304, 263, 90, 108, 140, 262, 334, 408, 322, 91, 395, 482, 461, 381, 402, 493, 446, 281, 186, 270, 185, 126, 113, 208, 38, 454, 140, 213, 59, 471, 333, 168, 434, 112, 364, 320, 275, 165, 350, 198, 130, 19, 482, 148, 26, 368, 97, 65, 162, 134, 186, 154, 319, 363, 129, 489, 312, 426, 427, 56, 279, 78, 128, 19, 144, 192, 280, 286, 147, 481, 325, 426, 481, 484, 108, 276, 332, 106, 244, 384, 7, 74, 72, 257, 64, 114, 257, 112, 73, 258, 422, 75, 461, 459, 297, 446, 278, 333, 455, 487, 354, 263, 22, 8, 386, 463, 416, 460, 166, 318, 384, 23, 38, 318, 281, 195, 464, 8, 135, 225, 73, 476, 425, 395, 369, 473, 2, 127, 158, 14, 350, 276, 138, 187, 431, 345, 186, 19, 407, 379, 271, 380, 150, 385, 305, 437, 494, 220, 470, 84, 274, 122, 54, 13, 72, 403, 8, 58, 25, 387, 52, 458, 305, 12, 4, 192, 135, 180, 496, 115, 425, 380, 480, 321, 19, 342, 354, 371, 473, 460, 66, 395, 78, 265, 407, 271]\n"
     ]
    }
   ],
   "source": [
    "filename = 'Dataset/wl_500'\n",
    "n_depots, n_customers, depot_capacities, setup_costs, customer_demands, costs = load_data(filename)\n",
    "\n",
    "greedy_init = initial_solution(n_depots, n_customers, depot_capacities, setup_costs, customer_demands, costs)\n",
    "sa_result = simulated_annealing(n_depots, n_customers, depot_capacities, setup_costs, customer_demands, costs,\n",
    "                               initial_temp=1000, cooling_rate=0.9, max_iter=30, neighbor_k=3)\n",
    "final_solution = tabu_search_optimized(sa_result, n_depots, depot_capacities, customer_demands,\n",
    "                                       setup_costs, costs, max_iter=40, tabu_tenure=4, neighbor_k=3, runs=2)\n",
    "print(\"Total cost : \",total_cost(final_solution, setup_costs, costs))\n",
    "print(\"Open depots : \",final_solution['open_depots'])\n",
    "print(\"Assignment : \",final_solution['assignment'])"
   ]
  }
 ],
 "metadata": {
  "kernelspec": {
   "display_name": "ML",
   "language": "python",
   "name": "python3"
  },
  "language_info": {
   "codemirror_mode": {
    "name": "ipython",
    "version": 3
   },
   "file_extension": ".py",
   "mimetype": "text/x-python",
   "name": "python",
   "nbconvert_exporter": "python",
   "pygments_lexer": "ipython3",
   "version": "3.12.7"
  }
 },
 "nbformat": 4,
 "nbformat_minor": 5
}
