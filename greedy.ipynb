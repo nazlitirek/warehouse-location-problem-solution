{
 "cells": [
  {
   "cell_type": "code",
   "execution_count": 1,
   "id": "f9a0dee3",
   "metadata": {},
   "outputs": [],
   "source": [
    "import numpy\n",
    "from data_loader import load_data"
   ]
  },
  {
   "cell_type": "code",
   "execution_count": 2,
   "id": "13c861c6",
   "metadata": {},
   "outputs": [],
   "source": [
    "def greedy_solution(num_depots, num_customers, depot_capacities, setup_costs, customer_demands, cost_matrix):\n",
    "    # Depo kapasitesini izlemek için liste oluşturuyoruz\n",
    "    remaining_capacities = depot_capacities.copy()\n",
    "    \n",
    "    # Müşterilere hizmet verecek depoları seçiyoruz\n",
    "    selected_depots = []\n",
    "    customer_to_depot = [-1] * num_customers  # Her müşteri için bir depo numarası\n",
    "    total_cost = 0\n",
    "\n",
    "    for customer in range(num_customers):\n",
    "        min_cost = float('inf')\n",
    "        best_depot = -1\n",
    "        for depot in range(num_depots):\n",
    "            # Eğer depo kapasitesine bakarak müşteri kabul edebilirse\n",
    "            if remaining_capacities[depot] >= customer_demands[customer]:\n",
    "                cost = cost_matrix[customer][depot]  # Müşteri-depo taşıma maliyeti\n",
    "                if cost < min_cost:\n",
    "                    min_cost = cost\n",
    "                    best_depot = depot\n",
    "        \n",
    "        if best_depot == -1:\n",
    "            print(f\"Uyarı: Müşteri {customer} için uygun depo bulunamadı!\")\n",
    "            continue  # Eğer uygun depo yoksa, bu müşteri için işlem yapılmaz\n",
    "        \n",
    "        # En uygun depo seçildikten sonra, müşteri o depoya atanır\n",
    "        customer_to_depot[customer] = best_depot\n",
    "        remaining_capacities[best_depot] -= customer_demands[customer]  # Depo kapasitesi güncellenir\n",
    "        \n",
    "        # Depo henüz seçilmediyse, kurulum maliyeti eklenir\n",
    "        if best_depot not in selected_depots:\n",
    "            selected_depots.append(best_depot)\n",
    "            total_cost += setup_costs[best_depot]\n",
    "\n",
    "        # Taşıma maliyeti eklenir\n",
    "        total_cost += min_cost\n",
    "    \n",
    "    return selected_depots, customer_to_depot, total_cost"
   ]
  },
  {
   "cell_type": "code",
   "execution_count": 3,
   "id": "34a2fa07",
   "metadata": {},
   "outputs": [
    {
     "name": "stdout",
     "output_type": "stream",
     "text": [
      "Seçilen Depolar: [7, 11, 0, 24, 20, 1, 2, 21, 3, 4, 5, 6, 8, 9, 10, 12, 13, 14, 15, 16, 17, 18, 23, 19, 22]\n",
      "Müşterilerin Depo Seçimi: [7, 11, 0, 24, 20, 0, 1, 2, 21, 7, 3, 4, 5, 0, 6, 7, 3, 8, 20, 6, 20, 9, 10, 0, 11, 4, 12, 10, 13, 14, 15, 10, 15, 16, 11, 11, 17, 18, 23, 24, 19, 20, 21, 6, 22, 23, 23, 6, 24, 11]\n",
      "Toplam Maliyet: 832291.15\n"
     ]
    }
   ],
   "source": [
    "#örnek kullanım\n",
    "file_path = 'Dataset/wl_25'  # Burada dosya adını uygun şekilde değiştirin\n",
    "num_depots, num_customers, depot_capacities, setup_costs, customer_demands, cost_matrix = load_data(file_path)\n",
    "selected_depots, customer_to_depot, total_cost = greedy_solution(num_depots, num_customers, depot_capacities, setup_costs, customer_demands, cost_matrix)\n",
    "\n",
    "# Sonuçları yazdırma\n",
    "print(f\"Seçilen Depolar: {selected_depots}\")\n",
    "print(f\"Müşterilerin Depo Seçimi: {customer_to_depot}\")\n",
    "print(f\"Toplam Maliyet: {total_cost}\")"
   ]
  },
  {
   "cell_type": "code",
   "execution_count": 4,
   "id": "625620e9",
   "metadata": {},
   "outputs": [
    {
     "name": "stdout",
     "output_type": "stream",
     "text": [
      "Seçilen Depolar: [0, 1, 2, 3, 4, 5, 6, 7, 8, 9, 10, 11, 12, 13, 14, 15, 16, 17, 18, 19, 20, 21, 22, 23, 24, 25, 26, 27, 28, 29, 30, 31, 32, 33, 34, 35, 36, 37, 38, 39, 40, 41, 42, 43, 44, 45, 46, 47, 48, 49]\n",
      "Müşterilerin Depo Seçimi: [0, 1, 2, 3, 4, 5, 6, 7, 8, 9, 10, 11, 12, 13, 14, 15, 16, 17, 18, 19, 20, 21, 22, 23, 24, 25, 26, 27, 28, 29, 30, 31, 32, 33, 34, 35, 36, 37, 38, 39, 40, 41, 42, 43, 44, 45, 46, 47, 48, 49]\n",
      "Toplam Maliyet: 1236571.45\n"
     ]
    }
   ],
   "source": [
    "file_path = 'Dataset/wl_50'# Burada dosya adını uygun şekilde değiştirin\n",
    "num_depots, num_customers, depot_capacities, setup_costs, customer_demands, cost_matrix = load_data(file_path)\n",
    "selected_depots, customer_to_depot, total_cost = greedy_solution(num_depots, num_customers, depot_capacities, setup_costs, customer_demands, cost_matrix)\n",
    "\n",
    "# Sonuçları yazdırma\n",
    "print(f\"Seçilen Depolar: {selected_depots}\")\n",
    "print(f\"Müşterilerin Depo Seçimi: {customer_to_depot}\")\n",
    "print(f\"Toplam Maliyet: {total_cost}\")"
   ]
  },
  {
   "cell_type": "code",
   "execution_count": 5,
   "id": "6e053d21",
   "metadata": {},
   "outputs": [
    {
     "name": "stdout",
     "output_type": "stream",
     "text": [
      "Seçilen Depolar: [197, 95, 84, 125, 173, 53, 185, 93, 113, 134, 178, 198, 111, 101, 162, 47, 66, 23, 148, 2, 158, 137, 71, 142, 32, 48, 44, 135, 106, 34, 184, 52, 102, 150, 20, 70, 117, 79, 108, 194, 147, 19, 63, 133, 126, 37, 183, 129, 13, 51, 154, 78, 171, 165, 121, 38, 166, 49, 87, 64, 25, 144, 5, 81, 138, 14, 160, 89, 24, 99, 45, 75, 114, 128, 169, 9, 12, 124, 168, 8, 181, 31, 62, 36, 163, 196, 61, 92, 85, 28, 107, 167, 43, 136, 105, 83, 21, 176, 149, 0, 110, 100, 98, 130, 186, 3, 190, 80, 153, 86, 191, 195, 72, 109, 127, 15, 157, 69, 139, 27, 4, 143, 40, 22]\n",
      "Müşterilerin Depo Seçimi: [197, 95, 84, 125, 173, 53, 185, 93, 113, 134, 178, 198, 111, 101, 162, 47, 66, 23, 148, 2, 158, 137, 71, 142, 32, 48, 44, 135, 106, 34, 184, 178, 48, 93, 52, 102, 150, 20, 70, 117, 79, 108, 194, 147, 158, 84, 19, 63, 133, 126, 37, 125, 158, 32, 183, 129, 13, 106, 51, 53, 154, 162, 102, 53, 78, 171, 165, 121, 70, 38, 166, 49, 87, 64, 147, 25, 144, 5, 20, 81, 198, 138, 14, 178, 53, 160, 89, 24, 150, 99, 45, 24, 75, 114, 128, 102, 169, 9, 12, 121, 124, 165, 38, 168, 53, 25, 8, 13, 181, 23, 93, 49, 47, 95, 31, 62, 36, 163, 166, 66, 196, 52, 61, 92, 24, 126, 85, 28, 34, 107, 13, 84, 167, 5, 169, 43, 75, 136, 105, 83, 168, 106, 21, 176, 149, 45, 0, 110, 71, 70, 12, 113, 100, 0, 98, 154, 130, 12, 186, 3, 190, 80, 153, 86, 133, 191, 12, 198, 110, 195, 72, 109, 144, 70, 86, 127, 149, 176, 15, 21, 28, 66, 157, 3, 149, 69, 139, 198, 27, 79, 4, 117, 143, 19, 139, 107, 40, 137, 22, 13]\n",
      "Toplam Maliyet: 45816.050579999974\n"
     ]
    }
   ],
   "source": [
    "file_path = 'Dataset/wl_200'#Burada dosya adını uygun şekilde değiştirin\n",
    "num_depots, num_customers, depot_capacities, setup_costs, customer_demands, cost_matrix = load_data(file_path)\n",
    "selected_depots, customer_to_depot, total_cost = greedy_solution(num_depots, num_customers, depot_capacities, setup_costs, customer_demands, cost_matrix)\n",
    "\n",
    "# Sonuçları yazdırma\n",
    "print(f\"Seçilen Depolar: {selected_depots}\")\n",
    "print(f\"Müşterilerin Depo Seçimi: {customer_to_depot}\")\n",
    "print(f\"Toplam Maliyet: {total_cost}\")"
   ]
  },
  {
   "cell_type": "code",
   "execution_count": 6,
   "id": "6317c5da",
   "metadata": {},
   "outputs": [
    {
     "name": "stdout",
     "output_type": "stream",
     "text": [
      "Seçilen Depolar: [134, 53, 30, 256, 125, 90, 225, 275, 35, 100, 221, 240, 193, 156, 49, 161, 4, 200, 118, 238, 268, 138, 226, 103, 169, 149, 147, 45, 220, 51, 236, 36, 237, 48, 19, 132, 284, 212, 22, 131, 289, 12, 219, 32, 83, 11, 74, 71, 273, 77, 187, 102, 26, 264, 59, 290, 122, 28, 34, 181, 208, 92, 126, 178, 140, 253, 62, 204, 172, 148, 42, 56, 234, 58, 297, 37, 252, 96, 184, 27, 217, 101, 296, 258, 69, 84, 196, 141, 166, 164, 286, 282, 266, 170, 223, 277, 129, 201, 82, 18, 211, 93, 163, 23, 175, 143, 192, 136, 113, 276, 292, 281, 2, 142, 278, 20, 202, 117, 46, 24, 70, 209, 186, 13, 206, 257, 210, 135, 119, 232, 54, 231, 167, 155, 0, 288, 97, 188, 52, 61, 241, 279, 38, 191, 272, 242, 104, 40, 174, 8, 265, 199, 3, 115, 43, 215, 133, 110, 1, 173, 107, 244, 185, 235, 87, 120, 248, 287, 239, 47, 65, 251, 16, 124, 121, 31, 106, 293, 160]\n",
      "Müşterilerin Depo Seçimi: [134, 53, 30, 256, 125, 90, 225, 275, 35, 100, 221, 275, 240, 193, 156, 49, 161, 4, 200, 118, 238, 268, 138, 226, 103, 169, 149, 147, 268, 45, 220, 51, 236, 36, 237, 48, 19, 132, 284, 212, 22, 131, 289, 12, 219, 32, 284, 48, 83, 11, 74, 71, 273, 77, 187, 102, 26, 264, 59, 290, 132, 122, 28, 34, 181, 208, 92, 126, 178, 219, 140, 253, 62, 204, 172, 148, 42, 56, 234, 58, 125, 297, 22, 37, 12, 252, 268, 140, 96, 12, 184, 27, 217, 101, 296, 28, 258, 69, 84, 196, 141, 100, 166, 219, 181, 164, 69, 286, 282, 19, 266, 170, 223, 277, 129, 201, 82, 18, 211, 84, 93, 163, 23, 175, 240, 296, 296, 143, 192, 103, 136, 264, 221, 113, 297, 276, 292, 187, 281, 2, 142, 278, 42, 20, 187, 202, 19, 122, 134, 117, 46, 24, 70, 209, 93, 186, 13, 206, 103, 257, 210, 172, 135, 19, 119, 11, 27, 232, 118, 289, 253, 103, 54, 12, 268, 284, 164, 231, 167, 155, 0, 204, 219, 264, 288, 97, 188, 275, 2, 113, 52, 238, 268, 61, 210, 46, 54, 288, 22, 241, 172, 96, 279, 38, 191, 11, 140, 272, 242, 100, 104, 69, 117, 188, 40, 181, 292, 52, 174, 100, 8, 147, 49, 278, 22, 18, 265, 199, 119, 20, 141, 170, 252, 3, 134, 281, 115, 273, 43, 100, 215, 225, 220, 133, 217, 217, 110, 126, 202, 59, 0, 1, 173, 51, 284, 107, 115, 244, 0, 185, 234, 235, 87, 236, 231, 84, 226, 258, 120, 221, 248, 278, 237, 272, 287, 239, 47, 65, 251, 100, 204, 211, 59, 16, 27, 124, 121, 31, 217, 173, 161, 272, 53, 187, 106, 293, 289, 232, 54, 160]\n",
      "Toplam Maliyet: 101482.57200000003\n"
     ]
    }
   ],
   "source": [
    "file_path = 'Dataset/wl_300'#Burada dosya adını uygun şekilde değiştirin\n",
    "num_depots, num_customers, depot_capacities, setup_costs, customer_demands, cost_matrix = load_data(file_path)\n",
    "selected_depots, customer_to_depot, total_cost = greedy_solution(num_depots, num_customers, depot_capacities, setup_costs, customer_demands, cost_matrix)\n",
    "\n",
    "# Sonuçları yazdırma\n",
    "print(f\"Seçilen Depolar: {selected_depots}\")\n",
    "print(f\"Müşterilerin Depo Seçimi: {customer_to_depot}\")\n",
    "print(f\"Toplam Maliyet: {total_cost}\")"
   ]
  },
  {
   "cell_type": "code",
   "execution_count": 7,
   "id": "e86e941b",
   "metadata": {},
   "outputs": [
    {
     "name": "stdout",
     "output_type": "stream",
     "text": [
      "Seçilen Depolar: [432, 79, 473, 419, 269, 355, 87, 51, 60, 324, 260, 38, 31, 66, 176, 344, 161, 168, 471, 276, 94, 458, 499, 154, 29, 290, 76, 199, 437, 96, 392, 475, 372, 64, 442, 141, 98, 425, 427, 243, 9, 286, 369, 149, 245, 484, 35, 140, 256, 467, 166, 338, 384, 385, 104, 121, 446, 221, 379, 285, 351, 381, 133, 330, 460, 472, 184, 304, 251, 92, 406, 261, 341, 429, 267, 54, 135, 217, 350, 337, 470, 128, 320, 445, 272, 234, 403, 111, 215, 163, 268, 84, 144, 426, 109, 497, 171, 240, 493, 183, 409, 8, 412, 110, 123, 356, 407, 63, 15, 443, 205, 391, 58, 214, 102, 265, 435, 386, 423, 279, 295, 17, 397, 118, 336, 481, 416, 200, 33, 433, 164, 367, 293, 325, 216, 498, 371, 354, 360, 131, 19, 2, 275, 0, 69, 165, 474, 103, 130, 106, 174, 266, 365, 252, 27, 489, 333, 13, 431, 375, 476, 75, 348, 126, 370, 485, 195, 37, 196, 335, 120, 297, 6, 486, 459, 479, 22, 308, 262, 399, 53, 395, 73, 480, 441, 67, 457, 318, 113, 210, 21, 59, 238, 274, 463, 421, 309, 462, 434, 331, 482, 420, 301, 182, 78, 247, 175, 204, 364, 253, 105, 202, 206, 12, 88, 359, 137, 398, 4, 332, 363, 393, 82, 277, 173, 231, 273, 65, 263, 90, 108, 334, 408, 322, 91, 461, 402, 281, 46, 270, 151, 208, 306, 454, 213, 42, 112, 178, 198, 254, 148, 26, 368, 97, 162, 134, 186, 319, 129, 312, 56, 192, 280, 147, 153, 244, 1, 74, 72, 257, 327, 114, 464, 422, 278, 455, 487, 23, 61, 413, 225, 373, 127, 158, 14, 138, 187, 345, 388, 271, 380, 150, 305, 494, 220, 122, 346, 25, 387, 52, 390, 180, 496, 115, 321, 342]\n",
      "Müşterilerin Depo Seçimi: [432, 79, 473, 419, 269, 355, 87, 51, 60, 324, 260, 38, 31, 66, 176, 344, 161, 168, 471, 276, 94, 458, 499, 154, 29, 290, 76, 199, 437, 458, 96, 392, 475, 372, 64, 442, 141, 98, 269, 425, 427, 243, 9, 286, 369, 31, 149, 471, 245, 484, 35, 140, 256, 467, 166, 338, 384, 385, 276, 94, 104, 121, 446, 221, 379, 285, 351, 381, 133, 330, 460, 472, 184, 304, 251, 92, 406, 261, 341, 429, 94, 267, 54, 135, 217, 121, 350, 337, 470, 128, 320, 445, 272, 234, 176, 176, 403, 111, 215, 163, 268, 84, 144, 426, 109, 497, 171, 240, 493, 183, 409, 473, 8, 412, 110, 123, 356, 407, 63, 15, 443, 205, 391, 58, 214, 144, 121, 123, 337, 102, 265, 435, 386, 423, 499, 279, 295, 17, 397, 118, 336, 481, 8, 416, 64, 484, 200, 33, 433, 164, 367, 293, 325, 216, 498, 367, 111, 109, 371, 324, 354, 360, 131, 285, 135, 19, 2, 275, 367, 0, 69, 141, 407, 165, 60, 497, 474, 103, 130, 106, 443, 174, 266, 365, 252, 102, 27, 51, 489, 350, 435, 265, 333, 13, 386, 337, 431, 375, 351, 476, 75, 348, 126, 54, 370, 118, 485, 195, 37, 325, 372, 196, 335, 120, 344, 297, 31, 6, 486, 135, 459, 27, 479, 22, 431, 308, 262, 168, 399, 53, 269, 395, 336, 73, 135, 367, 480, 441, 67, 457, 318, 113, 210, 38, 21, 59, 238, 196, 272, 274, 144, 113, 463, 256, 421, 309, 458, 462, 434, 331, 426, 482, 94, 149, 420, 166, 6, 301, 274, 182, 384, 78, 247, 31, 53, 175, 204, 364, 253, 274, 105, 435, 202, 206, 12, 182, 88, 359, 221, 432, 137, 216, 12, 103, 12, 64, 398, 4, 332, 421, 367, 363, 393, 82, 277, 386, 173, 231, 273, 128, 433, 391, 58, 65, 304, 263, 90, 108, 140, 262, 334, 408, 322, 91, 395, 482, 461, 381, 402, 493, 446, 281, 46, 270, 151, 200, 113, 208, 306, 454, 140, 213, 59, 471, 333, 42, 434, 112, 364, 178, 275, 165, 350, 198, 254, 19, 482, 148, 26, 368, 97, 65, 162, 134, 186, 154, 319, 363, 129, 489, 312, 426, 427, 56, 279, 78, 128, 19, 144, 192, 280, 286, 147, 481, 153, 426, 481, 484, 108, 276, 332, 106, 244, 384, 1, 74, 72, 257, 327, 114, 257, 112, 73, 464, 422, 75, 461, 459, 297, 446, 278, 333, 455, 487, 354, 263, 22, 8, 386, 463, 416, 460, 166, 318, 384, 23, 61, 318, 281, 195, 464, 8, 413, 225, 73, 476, 425, 395, 369, 473, 373, 127, 158, 14, 350, 276, 138, 187, 431, 345, 388, 19, 407, 379, 271, 380, 150, 385, 305, 437, 494, 220, 470, 84, 274, 122, 54, 13, 346, 403, 8, 58, 25, 387, 52, 458, 390, 12, 4, 192, 135, 180, 496, 115, 425, 380, 480, 321, 19, 342, 354, 371, 473, 460, 66, 395, 78, 265, 407, 271]\n",
      "Toplam Maliyet: 99795.03573999996\n"
     ]
    }
   ],
   "source": [
    "file_path = 'Dataset/wl_500'#Burada dosya adını uygun şekilde değiştirin\n",
    "num_depots, num_customers, depot_capacities, setup_costs, customer_demands, cost_matrix = load_data(file_path)\n",
    "selected_depots, customer_to_depot, total_cost = greedy_solution(num_depots, num_customers, depot_capacities, setup_costs, customer_demands, cost_matrix)\n",
    "\n",
    "# Sonuçları yazdırma\n",
    "print(f\"Seçilen Depolar: {selected_depots}\")\n",
    "print(f\"Müşterilerin Depo Seçimi: {customer_to_depot}\")\n",
    "print(f\"Toplam Maliyet: {total_cost}\")"
   ]
  }
 ],
 "metadata": {
  "kernelspec": {
   "display_name": "ML",
   "language": "python",
   "name": "python3"
  },
  "language_info": {
   "codemirror_mode": {
    "name": "ipython",
    "version": 3
   },
   "file_extension": ".py",
   "mimetype": "text/x-python",
   "name": "python",
   "nbconvert_exporter": "python",
   "pygments_lexer": "ipython3",
   "version": "3.12.7"
  }
 },
 "nbformat": 4,
 "nbformat_minor": 5
}
